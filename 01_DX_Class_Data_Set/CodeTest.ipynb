{
 "cells": [
  {
   "cell_type": "code",
   "execution_count": null,
   "id": "1e06f842",
   "metadata": {
    "scrolled": true
   },
   "outputs": [],
   "source": [
    "'0123456789'[4:6], '0123456789'[-5:8]"
   ]
  },
  {
   "cell_type": "code",
   "execution_count": null,
   "id": "0210eae8",
   "metadata": {},
   "outputs": [],
   "source": [
    "'abcdefg'[-3:6]"
   ]
  },
  {
   "cell_type": "code",
   "execution_count": null,
   "id": "fa352319",
   "metadata": {},
   "outputs": [],
   "source": [
    "True, TRUE"
   ]
  },
  {
   "cell_type": "code",
   "execution_count": null,
   "id": "5f728df5",
   "metadata": {},
   "outputs": [],
   "source": []
  },
  {
   "cell_type": "code",
   "execution_count": null,
   "id": "44ee2bb6",
   "metadata": {},
   "outputs": [],
   "source": [
    "import numpy as np\n",
    "import pandas as pd"
   ]
  },
  {
   "cell_type": "code",
   "execution_count": null,
   "id": "e6900d65",
   "metadata": {},
   "outputs": [],
   "source": [
    "pd.Series([1,2,3])"
   ]
  },
  {
   "cell_type": "code",
   "execution_count": null,
   "id": "b3dbe771",
   "metadata": {},
   "outputs": [],
   "source": [
    "pd.Series([1,2,3], index=['a','b','c'])"
   ]
  },
  {
   "cell_type": "code",
   "execution_count": null,
   "id": "62609f93",
   "metadata": {},
   "outputs": [],
   "source": [
    "ser1 = pd.Series([1,2,3,4,5])"
   ]
  },
  {
   "cell_type": "code",
   "execution_count": null,
   "id": "52a6d73d",
   "metadata": {},
   "outputs": [],
   "source": [
    "len(ser1), ser1.shape, ser1.index, ser1.values, ser1.dtype"
   ]
  },
  {
   "cell_type": "code",
   "execution_count": null,
   "id": "35a4472e",
   "metadata": {},
   "outputs": [],
   "source": [
    "ser1.quantile(0.25)"
   ]
  },
  {
   "cell_type": "markdown",
   "id": "c31de566",
   "metadata": {},
   "source": [
    "# "
   ]
  },
  {
   "cell_type": "code",
   "execution_count": null,
   "id": "b153fcac",
   "metadata": {},
   "outputs": [],
   "source": [
    "ser2 = ser1.astype(\"str\").copy()"
   ]
  },
  {
   "cell_type": "code",
   "execution_count": null,
   "id": "7f87e623",
   "metadata": {},
   "outputs": [],
   "source": [
    "ser2.dtype"
   ]
  },
  {
   "cell_type": "code",
   "execution_count": null,
   "id": "c09a0de4",
   "metadata": {},
   "outputs": [],
   "source": [
    "ser1.unique()"
   ]
  },
  {
   "cell_type": "code",
   "execution_count": null,
   "id": "af2dca91",
   "metadata": {},
   "outputs": [],
   "source": [
    "ser1.nunique()"
   ]
  },
  {
   "cell_type": "code",
   "execution_count": null,
   "id": "21224382",
   "metadata": {},
   "outputs": [],
   "source": [
    "ser1 = pd.Series([1,1,1,2,3,4,3,2,2,2,4,5,6,6])"
   ]
  },
  {
   "cell_type": "code",
   "execution_count": null,
   "id": "d4c053cf",
   "metadata": {},
   "outputs": [],
   "source": [
    "len(ser1)"
   ]
  },
  {
   "cell_type": "code",
   "execution_count": null,
   "id": "bbb20e03",
   "metadata": {},
   "outputs": [],
   "source": [
    "ser1.unique()"
   ]
  },
  {
   "cell_type": "code",
   "execution_count": null,
   "id": "797998e4",
   "metadata": {},
   "outputs": [],
   "source": [
    "ser1.nunique()"
   ]
  },
  {
   "cell_type": "code",
   "execution_count": null,
   "id": "af4e1b17",
   "metadata": {
    "scrolled": true
   },
   "outputs": [],
   "source": [
    "pd.DataFrame({\"col1\":[1,2,3], \"col2\":[4,5,6]})"
   ]
  },
  {
   "cell_type": "code",
   "execution_count": null,
   "id": "792e6e0e",
   "metadata": {},
   "outputs": [],
   "source": [
    "df = pd.DataFrame([[1,4],[2,5],[3,6]], columns=[\"col1\",\"col2\"])\n",
    "df"
   ]
  },
  {
   "cell_type": "code",
   "execution_count": null,
   "id": "3929afa8",
   "metadata": {},
   "outputs": [],
   "source": [
    "df.iloc[0], df.loc[0]"
   ]
  },
  {
   "cell_type": "code",
   "execution_count": null,
   "id": "24c3a111",
   "metadata": {},
   "outputs": [],
   "source": [
    "df.iloc[0,0]"
   ]
  },
  {
   "cell_type": "code",
   "execution_count": null,
   "id": "a351ca2b",
   "metadata": {},
   "outputs": [],
   "source": [
    "df.iloc[[0],[0]]"
   ]
  },
  {
   "cell_type": "code",
   "execution_count": null,
   "id": "2bce53cd",
   "metadata": {},
   "outputs": [],
   "source": [
    "df.iloc[:2,0]"
   ]
  },
  {
   "cell_type": "code",
   "execution_count": null,
   "id": "345129b0",
   "metadata": {},
   "outputs": [],
   "source": [
    "df.iloc[:2,[0]]"
   ]
  },
  {
   "cell_type": "code",
   "execution_count": null,
   "id": "7918be48",
   "metadata": {},
   "outputs": [],
   "source": [
    "aaa = df.iloc[0,[0,1]]"
   ]
  },
  {
   "cell_type": "code",
   "execution_count": null,
   "id": "6f9de30d",
   "metadata": {},
   "outputs": [],
   "source": [
    "aaa.dtypes"
   ]
  },
  {
   "cell_type": "code",
   "execution_count": null,
   "id": "f510f964",
   "metadata": {},
   "outputs": [],
   "source": [
    "aaa.info"
   ]
  },
  {
   "cell_type": "code",
   "execution_count": null,
   "id": "1c294b38",
   "metadata": {},
   "outputs": [],
   "source": [
    "bbb = df.iloc[[0], [0,1]]"
   ]
  },
  {
   "cell_type": "code",
   "execution_count": null,
   "id": "4d0cd0c8",
   "metadata": {},
   "outputs": [],
   "source": [
    "bbb.info"
   ]
  },
  {
   "cell_type": "code",
   "execution_count": null,
   "id": "87de20aa",
   "metadata": {},
   "outputs": [],
   "source": [
    "df"
   ]
  },
  {
   "cell_type": "code",
   "execution_count": null,
   "id": "e0ac3ec9",
   "metadata": {},
   "outputs": [],
   "source": [
    "df.loc[0,]"
   ]
  },
  {
   "cell_type": "code",
   "execution_count": null,
   "id": "49418c87",
   "metadata": {},
   "outputs": [],
   "source": [
    "df['new1'] = 1\n",
    "df['new2'] = df['col1'] * 5\n",
    "df['new3'] = df['col1'] * df['col2']"
   ]
  },
  {
   "cell_type": "code",
   "execution_count": null,
   "id": "1dbc1133",
   "metadata": {},
   "outputs": [],
   "source": [
    "df"
   ]
  },
  {
   "cell_type": "code",
   "execution_count": null,
   "id": "8ee0832d",
   "metadata": {},
   "outputs": [],
   "source": [
    "df2 = df.iloc[:, [4,0,1,2,3]]"
   ]
  },
  {
   "cell_type": "markdown",
   "id": "b88e0698",
   "metadata": {},
   "source": [
    "### 데이터 제외 : drop"
   ]
  },
  {
   "cell_type": "code",
   "execution_count": null,
   "id": "506dafd0",
   "metadata": {},
   "outputs": [],
   "source": [
    "df2"
   ]
  },
  {
   "cell_type": "code",
   "execution_count": null,
   "id": "96a91997",
   "metadata": {
    "scrolled": true
   },
   "outputs": [],
   "source": [
    "df2.drop([0,1], axis=0)   # 행 제외"
   ]
  },
  {
   "cell_type": "code",
   "execution_count": null,
   "id": "84d59b50",
   "metadata": {},
   "outputs": [],
   "source": [
    "df2.drop(['col1','col2'], axis=1)   # 열 제외"
   ]
  },
  {
   "cell_type": "markdown",
   "id": "e74b554d",
   "metadata": {},
   "source": [
    "### 값의 대치 또는 치환\n",
    "- iloc 또는 loc를 활용하여 값을 넣을 수 있음\n",
    "- replace를 사용해서도 가능함"
   ]
  },
  {
   "cell_type": "code",
   "execution_count": null,
   "id": "c33f72a3",
   "metadata": {},
   "outputs": [],
   "source": [
    "df3 = df2\n",
    "df3.iloc[0, 1:4] = 999    # iloc는 index만 올 수 있다\n",
    "df3.loc[1, 'new1'] = 777  # column name을 사용할거면 iloc가 아니라 loc를 사용해야 함\n",
    "df3"
   ]
  },
  {
   "cell_type": "code",
   "execution_count": null,
   "id": "a7a88ef3",
   "metadata": {
    "scrolled": true
   },
   "outputs": [],
   "source": [
    "df3.replace({999:555, 777:888})   # 동시에 여러 개 값을 변경할 수 있음"
   ]
  },
  {
   "cell_type": "markdown",
   "id": "a8da2b4d",
   "metadata": {},
   "source": [
    "### 특정 칼럼 값의 조건을 판단하여, 새로운 칼럼을 1, 0으로 채우기\n",
    "- True/False는 수치연산을 실행하면 자동으로 정수형으로 변경된다\n",
    "- 합의 항등원 : a + 0 = a\n",
    "- 곱의 항등원 : a * 1 = a"
   ]
  },
  {
   "cell_type": "code",
   "execution_count": null,
   "id": "44759154",
   "metadata": {
    "scrolled": true
   },
   "outputs": [],
   "source": [
    "df3['new4'] = (df3['new1'] == 777) + 0\n",
    "df3['new5'] = (df3['new1'] == 777) *1\n",
    "df3['new6'] = (df3['new1'] == 777).astype(\"int\")\n",
    "df3"
   ]
  },
  {
   "cell_type": "code",
   "execution_count": null,
   "id": "b3744e7c",
   "metadata": {},
   "outputs": [],
   "source": []
  },
  {
   "cell_type": "code",
   "execution_count": null,
   "id": "9c09e5f5",
   "metadata": {},
   "outputs": [],
   "source": [
    "pip install jupyter_contrib_nbextensions && jupyter contrib nbextension install --user"
   ]
  },
  {
   "cell_type": "code",
   "execution_count": null,
   "id": "2ac316cc",
   "metadata": {},
   "outputs": [],
   "source": []
  },
  {
   "cell_type": "code",
   "execution_count": null,
   "id": "7a7c83d2",
   "metadata": {},
   "outputs": [],
   "source": [
    "import pandas"
   ]
  },
  {
   "cell_type": "code",
   "execution_count": null,
   "id": "6227e2ed",
   "metadata": {},
   "outputs": [],
   "source": []
  },
  {
   "cell_type": "code",
   "execution_count": null,
   "id": "c1468923",
   "metadata": {},
   "outputs": [],
   "source": []
  },
  {
   "cell_type": "code",
   "execution_count": null,
   "id": "be0699c1",
   "metadata": {},
   "outputs": [],
   "source": []
  },
  {
   "cell_type": "code",
   "execution_count": null,
   "id": "1f788ca9",
   "metadata": {},
   "outputs": [],
   "source": []
  },
  {
   "cell_type": "code",
   "execution_count": null,
   "id": "d3177251",
   "metadata": {},
   "outputs": [],
   "source": []
  },
  {
   "cell_type": "code",
   "execution_count": null,
   "id": "d5104462",
   "metadata": {},
   "outputs": [],
   "source": []
  },
  {
   "cell_type": "code",
   "execution_count": null,
   "id": "705f955d",
   "metadata": {},
   "outputs": [],
   "source": []
  },
  {
   "cell_type": "code",
   "execution_count": null,
   "id": "a4541450",
   "metadata": {},
   "outputs": [],
   "source": []
  },
  {
   "cell_type": "code",
   "execution_count": null,
   "id": "e2784c97",
   "metadata": {},
   "outputs": [],
   "source": []
  },
  {
   "cell_type": "code",
   "execution_count": null,
   "id": "df1b7014",
   "metadata": {},
   "outputs": [],
   "source": []
  },
  {
   "cell_type": "code",
   "execution_count": null,
   "id": "657de088",
   "metadata": {},
   "outputs": [],
   "source": []
  },
  {
   "cell_type": "code",
   "execution_count": null,
   "id": "ecbe6e74",
   "metadata": {},
   "outputs": [],
   "source": []
  },
  {
   "cell_type": "code",
   "execution_count": null,
   "id": "0c3174f5",
   "metadata": {},
   "outputs": [],
   "source": []
  },
  {
   "cell_type": "code",
   "execution_count": null,
   "id": "87ee4f0b",
   "metadata": {},
   "outputs": [],
   "source": []
  },
  {
   "cell_type": "code",
   "execution_count": null,
   "id": "ec8cca76",
   "metadata": {},
   "outputs": [],
   "source": []
  },
  {
   "cell_type": "code",
   "execution_count": null,
   "id": "f15602f6",
   "metadata": {},
   "outputs": [],
   "source": []
  },
  {
   "cell_type": "code",
   "execution_count": null,
   "id": "4a5195a6",
   "metadata": {},
   "outputs": [],
   "source": []
  },
  {
   "cell_type": "code",
   "execution_count": null,
   "id": "a29e70dd",
   "metadata": {},
   "outputs": [],
   "source": []
  },
  {
   "cell_type": "code",
   "execution_count": null,
   "id": "cdbc681a",
   "metadata": {},
   "outputs": [],
   "source": []
  },
  {
   "cell_type": "code",
   "execution_count": null,
   "id": "ba52a059",
   "metadata": {},
   "outputs": [],
   "source": []
  },
  {
   "cell_type": "code",
   "execution_count": null,
   "id": "89f6763c",
   "metadata": {},
   "outputs": [],
   "source": []
  },
  {
   "cell_type": "code",
   "execution_count": null,
   "id": "a0848e3e",
   "metadata": {},
   "outputs": [],
   "source": []
  },
  {
   "cell_type": "code",
   "execution_count": null,
   "id": "66520838",
   "metadata": {},
   "outputs": [],
   "source": []
  },
  {
   "cell_type": "code",
   "execution_count": null,
   "id": "e1eafd14",
   "metadata": {},
   "outputs": [],
   "source": []
  },
  {
   "cell_type": "code",
   "execution_count": null,
   "id": "3cd3623c",
   "metadata": {},
   "outputs": [],
   "source": []
  },
  {
   "cell_type": "code",
   "execution_count": null,
   "id": "8c3decb7",
   "metadata": {},
   "outputs": [],
   "source": []
  },
  {
   "cell_type": "code",
   "execution_count": null,
   "id": "57c7e22b",
   "metadata": {},
   "outputs": [],
   "source": []
  },
  {
   "cell_type": "code",
   "execution_count": null,
   "id": "ab125c9c",
   "metadata": {},
   "outputs": [],
   "source": []
  },
  {
   "cell_type": "code",
   "execution_count": null,
   "id": "287de255",
   "metadata": {},
   "outputs": [],
   "source": []
  },
  {
   "cell_type": "code",
   "execution_count": null,
   "id": "a4612aab",
   "metadata": {},
   "outputs": [],
   "source": []
  },
  {
   "cell_type": "code",
   "execution_count": null,
   "id": "5bdc4fd8",
   "metadata": {},
   "outputs": [],
   "source": []
  },
  {
   "cell_type": "code",
   "execution_count": null,
   "id": "cfd59fb3",
   "metadata": {},
   "outputs": [],
   "source": []
  },
  {
   "cell_type": "code",
   "execution_count": null,
   "id": "1c0ddd27",
   "metadata": {},
   "outputs": [],
   "source": []
  },
  {
   "cell_type": "code",
   "execution_count": null,
   "id": "561d397c",
   "metadata": {},
   "outputs": [],
   "source": []
  },
  {
   "cell_type": "code",
   "execution_count": null,
   "id": "2dc98632",
   "metadata": {},
   "outputs": [],
   "source": []
  },
  {
   "cell_type": "code",
   "execution_count": null,
   "id": "534eb3f6",
   "metadata": {},
   "outputs": [],
   "source": []
  },
  {
   "cell_type": "code",
   "execution_count": null,
   "id": "3951b751",
   "metadata": {},
   "outputs": [],
   "source": []
  },
  {
   "cell_type": "code",
   "execution_count": null,
   "id": "f03dbdac",
   "metadata": {},
   "outputs": [],
   "source": []
  },
  {
   "cell_type": "code",
   "execution_count": null,
   "id": "1abcab12",
   "metadata": {},
   "outputs": [],
   "source": []
  },
  {
   "cell_type": "code",
   "execution_count": null,
   "id": "29398f3a",
   "metadata": {},
   "outputs": [],
   "source": []
  },
  {
   "cell_type": "code",
   "execution_count": null,
   "id": "57cf3af1",
   "metadata": {},
   "outputs": [],
   "source": []
  },
  {
   "cell_type": "code",
   "execution_count": null,
   "id": "fbd4b5a1",
   "metadata": {},
   "outputs": [],
   "source": []
  },
  {
   "cell_type": "code",
   "execution_count": null,
   "id": "889ce9ce",
   "metadata": {},
   "outputs": [],
   "source": []
  },
  {
   "cell_type": "code",
   "execution_count": null,
   "id": "d5d71310",
   "metadata": {},
   "outputs": [],
   "source": []
  },
  {
   "cell_type": "code",
   "execution_count": null,
   "id": "5a83377e",
   "metadata": {},
   "outputs": [],
   "source": []
  },
  {
   "cell_type": "code",
   "execution_count": null,
   "id": "cf45bb0f",
   "metadata": {},
   "outputs": [],
   "source": []
  },
  {
   "cell_type": "code",
   "execution_count": null,
   "id": "550119dc",
   "metadata": {},
   "outputs": [],
   "source": []
  },
  {
   "cell_type": "code",
   "execution_count": null,
   "id": "11e410d4",
   "metadata": {},
   "outputs": [],
   "source": []
  },
  {
   "cell_type": "code",
   "execution_count": null,
   "id": "a34edf5b",
   "metadata": {},
   "outputs": [],
   "source": []
  },
  {
   "cell_type": "code",
   "execution_count": null,
   "id": "2c58abce",
   "metadata": {},
   "outputs": [],
   "source": []
  },
  {
   "cell_type": "code",
   "execution_count": null,
   "id": "349321f2",
   "metadata": {},
   "outputs": [],
   "source": []
  },
  {
   "cell_type": "code",
   "execution_count": null,
   "id": "b4d5595b",
   "metadata": {},
   "outputs": [],
   "source": []
  },
  {
   "cell_type": "code",
   "execution_count": null,
   "id": "67995b90",
   "metadata": {},
   "outputs": [],
   "source": []
  },
  {
   "cell_type": "code",
   "execution_count": null,
   "id": "5cc68b6a",
   "metadata": {},
   "outputs": [],
   "source": []
  },
  {
   "cell_type": "code",
   "execution_count": null,
   "id": "499d9302",
   "metadata": {},
   "outputs": [],
   "source": []
  },
  {
   "cell_type": "code",
   "execution_count": null,
   "id": "2b8d121a",
   "metadata": {},
   "outputs": [],
   "source": []
  },
  {
   "cell_type": "code",
   "execution_count": null,
   "id": "b66b4bb6",
   "metadata": {},
   "outputs": [],
   "source": []
  },
  {
   "cell_type": "code",
   "execution_count": null,
   "id": "34d37421",
   "metadata": {},
   "outputs": [],
   "source": []
  },
  {
   "cell_type": "code",
   "execution_count": null,
   "id": "3524e780",
   "metadata": {},
   "outputs": [],
   "source": []
  },
  {
   "cell_type": "code",
   "execution_count": null,
   "id": "9f31e2fd",
   "metadata": {},
   "outputs": [],
   "source": []
  },
  {
   "cell_type": "code",
   "execution_count": null,
   "id": "11d299c6",
   "metadata": {},
   "outputs": [],
   "source": []
  },
  {
   "cell_type": "code",
   "execution_count": null,
   "id": "ca59f955",
   "metadata": {},
   "outputs": [],
   "source": []
  },
  {
   "cell_type": "code",
   "execution_count": null,
   "id": "1b336e0c",
   "metadata": {},
   "outputs": [],
   "source": []
  },
  {
   "cell_type": "code",
   "execution_count": null,
   "id": "085ead0e",
   "metadata": {},
   "outputs": [],
   "source": []
  },
  {
   "cell_type": "code",
   "execution_count": null,
   "id": "4c99b5a2",
   "metadata": {},
   "outputs": [],
   "source": []
  },
  {
   "cell_type": "code",
   "execution_count": null,
   "id": "fe748cac",
   "metadata": {},
   "outputs": [],
   "source": []
  },
  {
   "cell_type": "code",
   "execution_count": null,
   "id": "ca1e3233",
   "metadata": {},
   "outputs": [],
   "source": []
  },
  {
   "cell_type": "code",
   "execution_count": null,
   "id": "83098055",
   "metadata": {},
   "outputs": [],
   "source": []
  },
  {
   "cell_type": "code",
   "execution_count": null,
   "id": "24100c99",
   "metadata": {},
   "outputs": [],
   "source": []
  },
  {
   "cell_type": "code",
   "execution_count": null,
   "id": "e3881002",
   "metadata": {},
   "outputs": [],
   "source": []
  },
  {
   "cell_type": "code",
   "execution_count": null,
   "id": "b0e5640f",
   "metadata": {},
   "outputs": [],
   "source": []
  },
  {
   "cell_type": "code",
   "execution_count": null,
   "id": "e1767648",
   "metadata": {},
   "outputs": [],
   "source": []
  },
  {
   "cell_type": "code",
   "execution_count": null,
   "id": "d2f8cb28",
   "metadata": {},
   "outputs": [],
   "source": []
  },
  {
   "cell_type": "code",
   "execution_count": null,
   "id": "427aa7a2",
   "metadata": {},
   "outputs": [],
   "source": []
  }
 ],
 "metadata": {
  "kernelspec": {
   "display_name": "Python 3 (ipykernel)",
   "language": "python",
   "name": "python3"
  },
  "language_info": {
   "codemirror_mode": {
    "name": "ipython",
    "version": 3
   },
   "file_extension": ".py",
   "mimetype": "text/x-python",
   "name": "python",
   "nbconvert_exporter": "python",
   "pygments_lexer": "ipython3",
   "version": "3.9.13"
  }
 },
 "nbformat": 4,
 "nbformat_minor": 5
}
