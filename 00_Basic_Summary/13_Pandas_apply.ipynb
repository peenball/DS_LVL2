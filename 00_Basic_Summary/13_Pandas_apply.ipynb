{
 "cells": [
  {
   "cell_type": "code",
   "execution_count": 1,
   "id": "dfc725a7",
   "metadata": {},
   "outputs": [],
   "source": [
    "import pandas as pd"
   ]
  },
  {
   "cell_type": "code",
   "execution_count": 2,
   "id": "9e7fe973",
   "metadata": {},
   "outputs": [
    {
     "data": {
      "text/html": [
       "<div>\n",
       "<style scoped>\n",
       "    .dataframe tbody tr th:only-of-type {\n",
       "        vertical-align: middle;\n",
       "    }\n",
       "\n",
       "    .dataframe tbody tr th {\n",
       "        vertical-align: top;\n",
       "    }\n",
       "\n",
       "    .dataframe thead th {\n",
       "        text-align: right;\n",
       "    }\n",
       "</style>\n",
       "<table border=\"1\" class=\"dataframe\">\n",
       "  <thead>\n",
       "    <tr style=\"text-align: right;\">\n",
       "      <th></th>\n",
       "      <th>이름</th>\n",
       "      <th>학번</th>\n",
       "      <th>수학점수</th>\n",
       "      <th>영어점수</th>\n",
       "    </tr>\n",
       "  </thead>\n",
       "  <tbody>\n",
       "    <tr>\n",
       "      <th>0</th>\n",
       "      <td>김철수</td>\n",
       "      <td>10103</td>\n",
       "      <td>83</td>\n",
       "      <td>75</td>\n",
       "    </tr>\n",
       "    <tr>\n",
       "      <th>1</th>\n",
       "      <td>이하윤</td>\n",
       "      <td>10211</td>\n",
       "      <td>85</td>\n",
       "      <td>92</td>\n",
       "    </tr>\n",
       "    <tr>\n",
       "      <th>2</th>\n",
       "      <td>박민수</td>\n",
       "      <td>10321</td>\n",
       "      <td>87</td>\n",
       "      <td>97</td>\n",
       "    </tr>\n",
       "  </tbody>\n",
       "</table>\n",
       "</div>"
      ],
      "text/plain": [
       "    이름     학번  수학점수  영어점수\n",
       "0  김철수  10103    83    75\n",
       "1  이하윤  10211    85    92\n",
       "2  박민수  10321    87    97"
      ]
     },
     "execution_count": 2,
     "metadata": {},
     "output_type": "execute_result"
    }
   ],
   "source": [
    "df = pd.DataFrame({\"이름\": [\"김철수\", \"이하윤\", \"박민수\"],\n",
    "                   \"학번\": [10103, 10211, 10321],\n",
    "                   \"수학점수\": [83, 85, 87],\n",
    "                   \"영어점수\": [75, 92, 97]})\n",
    "df"
   ]
  },
  {
   "cell_type": "markdown",
   "id": "c98436ab",
   "metadata": {},
   "source": [
    "산술연산에 사용되는 Series의 각종 메서드는 DataFrame에 사용할 경우 축방향 연산을 지원한다. 즉, column방향 또는 row방향의 연산을 지원하며 이는 \"axis\" 인자로 방향 조정이 가능하다."
   ]
  },
  {
   "cell_type": "code",
   "execution_count": 5,
   "id": "09a260e1",
   "metadata": {},
   "outputs": [
    {
     "name": "stderr",
     "output_type": "stream",
     "text": [
      "C:\\Users\\Encaion\\AppData\\Local\\Temp\\ipykernel_23944\\3698961737.py:1: FutureWarning: The default value of numeric_only in DataFrame.mean is deprecated. In a future version, it will default to False. In addition, specifying 'numeric_only=None' is deprecated. Select only valid columns or specify the value of numeric_only to silence this warning.\n",
      "  df.mean()\n"
     ]
    },
    {
     "data": {
      "text/plain": [
       "학번      10211.666667\n",
       "수학점수       85.000000\n",
       "영어점수       88.000000\n",
       "dtype: float64"
      ]
     },
     "execution_count": 5,
     "metadata": {},
     "output_type": "execute_result"
    }
   ],
   "source": [
    "df.mean()"
   ]
  },
  {
   "cell_type": "code",
   "execution_count": 6,
   "id": "9ab4fce8",
   "metadata": {},
   "outputs": [
    {
     "name": "stderr",
     "output_type": "stream",
     "text": [
      "C:\\Users\\Encaion\\AppData\\Local\\Temp\\ipykernel_23944\\777590737.py:1: FutureWarning: The default value of numeric_only in DataFrame.mean is deprecated. In a future version, it will default to False. In addition, specifying 'numeric_only=None' is deprecated. Select only valid columns or specify the value of numeric_only to silence this warning.\n",
      "  df.mean(axis = 0)\n"
     ]
    },
    {
     "data": {
      "text/plain": [
       "학번      10211.666667\n",
       "수학점수       85.000000\n",
       "영어점수       88.000000\n",
       "dtype: float64"
      ]
     },
     "execution_count": 6,
     "metadata": {},
     "output_type": "execute_result"
    }
   ],
   "source": [
    "df.mean(axis = 0)"
   ]
  },
  {
   "cell_type": "code",
   "execution_count": 7,
   "id": "aeb89ef9",
   "metadata": {},
   "outputs": [
    {
     "name": "stderr",
     "output_type": "stream",
     "text": [
      "C:\\Users\\Encaion\\AppData\\Local\\Temp\\ipykernel_23944\\3216275966.py:1: FutureWarning: Dropping of nuisance columns in DataFrame reductions (with 'numeric_only=None') is deprecated; in a future version this will raise TypeError.  Select only valid columns before calling the reduction.\n",
      "  df.mean(axis = 1)\n"
     ]
    },
    {
     "data": {
      "text/plain": [
       "0    3420.333333\n",
       "1    3462.666667\n",
       "2    3501.666667\n",
       "dtype: float64"
      ]
     },
     "execution_count": 7,
     "metadata": {},
     "output_type": "execute_result"
    }
   ],
   "source": [
    "df.mean(axis = 1)"
   ]
  },
  {
   "cell_type": "code",
   "execution_count": 10,
   "id": "ffc940e6",
   "metadata": {},
   "outputs": [
    {
     "name": "stdout",
     "output_type": "stream",
     "text": [
      "3420.3333333333335\n",
      "3462.6666666666665\n",
      "3501.6666666666665\n"
     ]
    }
   ],
   "source": [
    "print(df.iloc[0, 1:].mean())\n",
    "print(df.iloc[1, 1:].mean())\n",
    "print(df.iloc[2, 1:].mean())"
   ]
  },
  {
   "cell_type": "code",
   "execution_count": 11,
   "id": "f7b29cc4",
   "metadata": {},
   "outputs": [
    {
     "data": {
      "text/plain": [
       "학번      10211.666667\n",
       "수학점수       85.000000\n",
       "영어점수       88.000000\n",
       "dtype: float64"
      ]
     },
     "execution_count": 11,
     "metadata": {},
     "output_type": "execute_result"
    }
   ],
   "source": [
    "df.mean(numeric_only = True)"
   ]
  },
  {
   "cell_type": "code",
   "execution_count": 12,
   "id": "d69a2d47",
   "metadata": {},
   "outputs": [
    {
     "data": {
      "text/plain": [
       "수학점수    85.0\n",
       "영어점수    88.0\n",
       "dtype: float64"
      ]
     },
     "execution_count": 12,
     "metadata": {},
     "output_type": "execute_result"
    }
   ],
   "source": [
    "df[[\"수학점수\", \"영어점수\"]].mean()"
   ]
  },
  {
   "cell_type": "code",
   "execution_count": 13,
   "id": "bc106306",
   "metadata": {},
   "outputs": [
    {
     "data": {
      "text/plain": [
       "0    79.0\n",
       "1    88.5\n",
       "2    92.0\n",
       "dtype: float64"
      ]
     },
     "execution_count": 13,
     "metadata": {},
     "output_type": "execute_result"
    }
   ],
   "source": [
    "df[[\"수학점수\", \"영어점수\"]].mean(axis = 1)"
   ]
  },
  {
   "cell_type": "markdown",
   "id": "83dc7aea",
   "metadata": {},
   "source": [
    "DataFrame의 메서드가 원하는 연산을 지원하지 않을 때는 .apply() 메서드와 함께 lambda 함수 또는 사용자 정의 함수를 사용해야 한다."
   ]
  },
  {
   "cell_type": "code",
   "execution_count": 14,
   "id": "2c7fe124",
   "metadata": {},
   "outputs": [],
   "source": [
    "def mean_100(x):\n",
    "    return x.mean() + 100"
   ]
  },
  {
   "cell_type": "code",
   "execution_count": 16,
   "id": "e88120cf",
   "metadata": {
    "collapsed": true
   },
   "outputs": [
    {
     "data": {
      "text/plain": [
       "수학점수    185.0\n",
       "영어점수    188.0\n",
       "dtype: float64"
      ]
     },
     "execution_count": 16,
     "metadata": {},
     "output_type": "execute_result"
    }
   ],
   "source": [
    "df.iloc[:, 2:].apply(mean_100)"
   ]
  },
  {
   "cell_type": "code",
   "execution_count": 17,
   "id": "44adb389",
   "metadata": {
    "collapsed": true
   },
   "outputs": [
    {
     "data": {
      "text/plain": [
       "0    179.0\n",
       "1    188.5\n",
       "2    192.0\n",
       "dtype: float64"
      ]
     },
     "execution_count": 17,
     "metadata": {},
     "output_type": "execute_result"
    }
   ],
   "source": [
    "df.iloc[:, 2:].apply(mean_100, axis = 1)"
   ]
  },
  {
   "cell_type": "code",
   "execution_count": 18,
   "id": "3b85d07d",
   "metadata": {
    "collapsed": true
   },
   "outputs": [
    {
     "data": {
      "text/plain": [
       "수학점수    185.0\n",
       "영어점수    188.0\n",
       "dtype: float64"
      ]
     },
     "execution_count": 18,
     "metadata": {},
     "output_type": "execute_result"
    }
   ],
   "source": [
    "df.iloc[:, 2:].apply(lambda x: x.mean() + 100)"
   ]
  },
  {
   "cell_type": "code",
   "execution_count": 19,
   "id": "92388282",
   "metadata": {},
   "outputs": [
    {
     "data": {
      "text/plain": [
       "0    179.0\n",
       "1    188.5\n",
       "2    192.0\n",
       "dtype: float64"
      ]
     },
     "execution_count": 19,
     "metadata": {},
     "output_type": "execute_result"
    }
   ],
   "source": [
    "df.iloc[:, 2:].apply(lambda x: x.mean() + 100, axis = 1)"
   ]
  }
 ],
 "metadata": {
  "kernelspec": {
   "display_name": "Python 3 (ipykernel)",
   "language": "python",
   "name": "python3"
  },
  "language_info": {
   "codemirror_mode": {
    "name": "ipython",
    "version": 3
   },
   "file_extension": ".py",
   "mimetype": "text/x-python",
   "name": "python",
   "nbconvert_exporter": "python",
   "pygments_lexer": "ipython3",
   "version": "3.9.12"
  }
 },
 "nbformat": 4,
 "nbformat_minor": 5
}
