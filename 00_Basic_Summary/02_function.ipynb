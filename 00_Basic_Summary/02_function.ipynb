{
 "cells": [
  {
   "cell_type": "markdown",
   "id": "b2098258",
   "metadata": {},
   "source": [
    "### 함수의 구성\n",
    "함수는 함수명, 소괄호, 인자, 인수로 구성되며 인자와 인수는 생략될 수 있다.\n",
    "* 함수명: 주로 영어로 명명되며 경우에 따라 숫자와 특수문자가 포함될 수 있다.\n",
    "* 소괄호: 각종 인자와 인수를 모아서 함수에 전달하는 역할을 한다.\n",
    "* 인자: 영어로 argument라고도 하며 파라미터, 옵션 등 다양한 용어로 불림. 하나의 함수에 복수개의 인자를 사용하는 경우 그 구분은 쉼표로 한다.\n",
    "* 인수: 인자에 할당되는 숫자이나 할당되는 문자 또는 객체를 포함하기도 한다."
   ]
  },
  {
   "cell_type": "markdown",
   "id": "ed7f2369",
   "metadata": {},
   "source": [
    "### 함수의 종류\n",
    "* 내장함수: Python에서 기본적으로 제공하는 함수\n",
    "* 사용자 정의 함수: 사용자가 직접 제작한 함수\n",
    "* 라이브러리 함수: 패키징이 되어있는 사용자 정의 함수\n",
    "\n",
    "내장함수를 제외한 함수를 사용하고자 할 때 관련 코드를 실행해야 한다. 즉, 새로운 세션의 경우 다시 관련 코드를 실행해야함."
   ]
  },
  {
   "cell_type": "code",
   "execution_count": 5,
   "id": "839cff7a",
   "metadata": {},
   "outputs": [
    {
     "data": {
      "text/plain": [
       "(16, '23', 999, 2, 1.23)"
      ]
     },
     "execution_count": 5,
     "metadata": {},
     "output_type": "execute_result"
    }
   ],
   "source": [
    "# 원소를 다루는 함수\n",
    "pow(2, 4), str(23), int(\"999\"), int(2.34), float(\"1.23\")"
   ]
  },
  {
   "cell_type": "code",
   "execution_count": 2,
   "id": "1e70255e",
   "metadata": {},
   "outputs": [
    {
     "data": {
      "text/plain": [
       "(1, 0)"
      ]
     },
     "execution_count": 2,
     "metadata": {},
     "output_type": "execute_result"
    }
   ],
   "source": [
    "int(True), int(False)"
   ]
  },
  {
   "cell_type": "markdown",
   "id": "3a351f6a",
   "metadata": {},
   "source": [
    "주피터 노트북의 경우 각 셀을 실행시킬 때 print() 함수를 사용하지 않아도 출력이 가능하나 별도의 출력형식이 필요하거나 반복문 중간 연산결과를 출력하고자 할 때 사용할 수 있다."
   ]
  },
  {
   "cell_type": "code",
   "execution_count": null,
   "id": "4b2ae99e",
   "metadata": {},
   "outputs": [],
   "source": [
    "print(123)"
   ]
  },
  {
   "cell_type": "code",
   "execution_count": 3,
   "id": "67962ffd",
   "metadata": {},
   "outputs": [
    {
     "name": "stdout",
     "output_type": "stream",
     "text": [
      "123 abc 456\n"
     ]
    }
   ],
   "source": [
    "# 원소를 문자로 연결하지 않아도 쉼표로 구분하여 출력 가능\n",
    "print(123, \"abc\", 456) "
   ]
  },
  {
   "cell_type": "code",
   "execution_count": 9,
   "id": "d07acfc9",
   "metadata": {},
   "outputs": [],
   "source": [
    "help(print) # 특정 함수의 도움말 출력"
   ]
  },
  {
   "cell_type": "code",
   "execution_count": 12,
   "id": "a6825525",
   "metadata": {},
   "outputs": [],
   "source": [
    "dir(pow) # 함수 또는 객체 내부의 어트리뷰트 또는 메서드 목록 확인 가능"
   ]
  },
  {
   "cell_type": "markdown",
   "id": "c34b2aa0",
   "metadata": {},
   "source": [
    "### 사용자 정의 함수\n",
    "#### 개요  \n",
    "사용자 정의 함수(UDF, User Defined Function)는 각종 함수, 연산자 등 다양한 요소를 조합하여 생성하며 정의를 뜻하는 define 단어의 줄임말인 \"def\"를 코드 앞에 사용하여 함수를 정의한다.  \n",
    "  \n",
    "#### 생성\n",
    "* 함수명  \n",
    "주로 영문자, 숫자, 특수문자로 구성하며 함수명의 시작은 영문자를 권장한다. 특수 문자는 되도록이면 언더바만 사용한다.  \n",
    "명명법과 관련해서는 대표적으로 카멜 표기법(Camel Case), 파스칼 표기법(Pascal Case), 스네이크 표기법(Snake Case)이 있다.\n",
    "  \n",
    "* 인자와 인수  \n",
    "인자의 명명 또한 함수명명 규칙을 따르는 것을 권장. 인자의 경우 기본으로 할당된 인수를 지정할 수 있다.  \n",
    "  \n",
    "* 정의\n",
    "\"def\" 로 시작하며 함수명, 소괄호 및 인자/인수를 차례대로 나열하고 마지막에 콜론으로 마무리를 한다. 함수 실행시 동작하는 코드는 반드시 들여쓰기를 실시하고 이 들여쓰기는 4칸 띄어쓰기 또는 한 번의 Tab으로 처리하며 Tab을 사용하는 것을 권장한다.\n",
    "\n",
    "* 연산 결과의 처리  \n",
    "함수의 중간 또는 최종 연산 결과를 \"출력\"하기 위해서는 print() 함수를 사용하고 중간 또는 최종 연산 결과를 \"반환\"하기 위해서는 \"return\" 명령어를 사용한다. 일반적으로 \"return\"은 사용자 정의 함수 가장 마지막에 선언함.\n",
    "\n",
    "#### 사용\n",
    "사용자 정의 함수 정의 코드를 실행한 후 사용이 가능하며 세션이 재부팅되거나 노트북을 새로 열었을 때 관련코드를 다시 실행해야 한다."
   ]
  },
  {
   "cell_type": "code",
   "execution_count": 4,
   "id": "5ec31772",
   "metadata": {},
   "outputs": [],
   "source": [
    "# 입력도 출력도 없는 함수\n",
    "def udf01():\n",
    "    None"
   ]
  },
  {
   "cell_type": "code",
   "execution_count": 5,
   "id": "48d4624f",
   "metadata": {},
   "outputs": [],
   "source": [
    "udf01()"
   ]
  },
  {
   "cell_type": "code",
   "execution_count": 30,
   "id": "5d9eb8ef",
   "metadata": {},
   "outputs": [],
   "source": [
    "# 입력이 없으나 출력 또는 반환값이 있는 함수\n",
    "def udf02():\n",
    "    print([1, 2, 3])\n",
    "    \n",
    "def udf03():\n",
    "    return [1, 2, 3]"
   ]
  },
  {
   "cell_type": "code",
   "execution_count": 29,
   "id": "913f685f",
   "metadata": {},
   "outputs": [
    {
     "name": "stdout",
     "output_type": "stream",
     "text": [
      "[1, 2, 3]\n",
      "<class 'NoneType'>\n",
      "<class 'list'>\n"
     ]
    }
   ],
   "source": [
    "aa = udf02()\n",
    "print(type(aa))\n",
    "bb = udf03()\n",
    "print(type(bb))"
   ]
  },
  {
   "cell_type": "code",
   "execution_count": 31,
   "id": "7559dc11",
   "metadata": {},
   "outputs": [],
   "source": [
    "# return 또는 print()가 없으면 결과를 확인할 수 없음\n",
    "def udf04():\n",
    "    234 "
   ]
  },
  {
   "cell_type": "code",
   "execution_count": 32,
   "id": "8a57d938",
   "metadata": {},
   "outputs": [],
   "source": [
    "cc = udf04()\n",
    "cc"
   ]
  },
  {
   "cell_type": "code",
   "execution_count": 35,
   "id": "5d4d0189",
   "metadata": {},
   "outputs": [],
   "source": [
    "# 입력은 있으나 출력은 없는 것\n",
    "def udf05(x):\n",
    "    None"
   ]
  },
  {
   "cell_type": "code",
   "execution_count": 37,
   "id": "246f7fb3",
   "metadata": {},
   "outputs": [],
   "source": [
    "udf05(123)"
   ]
  },
  {
   "cell_type": "code",
   "execution_count": 39,
   "id": "cbcd1767",
   "metadata": {},
   "outputs": [],
   "source": [
    "# 입력과 출력/반환이 있는 것\n",
    "def udf06(x):\n",
    "    return x\n",
    "\n",
    "def udf07(x):\n",
    "    return x * 5"
   ]
  },
  {
   "cell_type": "code",
   "execution_count": 40,
   "id": "b1d1305a",
   "metadata": {},
   "outputs": [
    {
     "data": {
      "text/plain": [
       "(5, 25)"
      ]
     },
     "execution_count": 40,
     "metadata": {},
     "output_type": "execute_result"
    }
   ],
   "source": [
    "udf06(5), udf07(5)"
   ]
  },
  {
   "cell_type": "code",
   "execution_count": 42,
   "id": "f1f153f4",
   "metadata": {},
   "outputs": [],
   "source": [
    "# udf06()\n",
    "# Error: udf06() missing 1 required positional argument: 'x'"
   ]
  },
  {
   "cell_type": "code",
   "execution_count": 43,
   "id": "1509fa1e",
   "metadata": {},
   "outputs": [],
   "source": [
    "# 인자에 기본값이 할당되어 있는 경우\n",
    "def udf08(x = 2):\n",
    "    return x ** 3"
   ]
  },
  {
   "cell_type": "code",
   "execution_count": 44,
   "id": "fa3d8473",
   "metadata": {},
   "outputs": [
    {
     "data": {
      "text/plain": [
       "(8, 27)"
      ]
     },
     "execution_count": 44,
     "metadata": {},
     "output_type": "execute_result"
    }
   ],
   "source": [
    "udf08(), udf08(3)"
   ]
  },
  {
   "cell_type": "code",
   "execution_count": 45,
   "id": "27b26f8b",
   "metadata": {},
   "outputs": [],
   "source": [
    "# 인자가 2개 이상 있는 경우\n",
    "def udf09(x, y):\n",
    "    cal_x = x * 2\n",
    "    cal_y = y ** 2\n",
    "    return cal_x + cal_y"
   ]
  },
  {
   "cell_type": "code",
   "execution_count": 47,
   "id": "79f8c482",
   "metadata": {},
   "outputs": [
    {
     "data": {
      "text/plain": [
       "(404, 404, 44, 404)"
      ]
     },
     "execution_count": 47,
     "metadata": {},
     "output_type": "execute_result"
    }
   ],
   "source": [
    "# 인자를 명시하지 않으면 함수에 설계된 인자 순서대로 값이 할당\n",
    "udf09(x = 2, y = 20), udf09(2, 20), udf09(20, 2), udf09(y = 20, x = 2)"
   ]
  },
  {
   "cell_type": "code",
   "execution_count": 51,
   "id": "6a3dd5cb",
   "metadata": {},
   "outputs": [],
   "source": [
    "# 인자가 2개 이상이면서 기본값이 있는 경우 \n",
    "# def udf10(x = 3, y):\n",
    "#     return x + y\n",
    "# SyntaxError: non-default argument follows default argument ??\n",
    "# --> 기본값이 있는 인자는 기본값이 없는 인자 다음에 배치되어야 함.\n",
    "def udf10(x, y = 3):\n",
    "    return x + y\n",
    "\n",
    "def udf11(x = 2, y = 3):\n",
    "    return x + y"
   ]
  },
  {
   "cell_type": "code",
   "execution_count": null,
   "id": "520c6281",
   "metadata": {},
   "outputs": [],
   "source": []
  },
  {
   "cell_type": "code",
   "execution_count": null,
   "id": "6dc5ca7d",
   "metadata": {},
   "outputs": [],
   "source": []
  }
 ],
 "metadata": {
  "kernelspec": {
   "display_name": "Python 3 (ipykernel)",
   "language": "python",
   "name": "python3"
  },
  "language_info": {
   "codemirror_mode": {
    "name": "ipython",
    "version": 3
   },
   "file_extension": ".py",
   "mimetype": "text/x-python",
   "name": "python",
   "nbconvert_exporter": "python",
   "pygments_lexer": "ipython3",
   "version": "3.9.13"
  }
 },
 "nbformat": 4,
 "nbformat_minor": 5
}
