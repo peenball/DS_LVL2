{
 "cells": [
  {
   "cell_type": "markdown",
   "id": "87f6ba06",
   "metadata": {},
   "source": [
    "### 결측치의 생성과 이해"
   ]
  },
  {
   "cell_type": "markdown",
   "id": "ee0c2899",
   "metadata": {},
   "source": [
    "결측치는 기본적으로 NumPy의 NaN, Pandas의 NA가 있으며 이와 유사한 것으로 None이 있다."
   ]
  },
  {
   "cell_type": "code",
   "execution_count": 1,
   "id": "f5953d37",
   "metadata": {},
   "outputs": [
    {
     "data": {
      "text/plain": [
       "(nan, <NA>)"
      ]
     },
     "execution_count": 1,
     "metadata": {},
     "output_type": "execute_result"
    }
   ],
   "source": [
    "import numpy as np\n",
    "import pandas as pd\n",
    "np.nan, pd.NA"
   ]
  },
  {
   "cell_type": "markdown",
   "id": "f32d2fc0",
   "metadata": {},
   "source": [
    "결측치 관련 원소를 기반으로 비교연산을 실시할 수 있으나 에러가 발생하지 않지만 만족스러운 결과가 나오지 않기 때문에 관련 코드를 별도의 필터링 등에 활용할 수 없다. 그리하여 결측치 관련 원소를 다루기 위해서는 전용 함수 또는 메서드를 사용해야 한다."
   ]
  },
  {
   "cell_type": "code",
   "execution_count": 2,
   "id": "8cf7dcb0",
   "metadata": {},
   "outputs": [
    {
     "data": {
      "text/plain": [
       "(False, <NA>)"
      ]
     },
     "execution_count": 2,
     "metadata": {},
     "output_type": "execute_result"
    }
   ],
   "source": [
    "np.nan == np.nan, pd.NA == pd.NA"
   ]
  },
  {
   "cell_type": "markdown",
   "id": "f0ac966b",
   "metadata": {},
   "source": [
    "### 결측치의 식별"
   ]
  },
  {
   "cell_type": "code",
   "execution_count": 3,
   "id": "69301056",
   "metadata": {},
   "outputs": [
    {
     "data": {
      "text/plain": [
       "0       1\n",
       "1       3\n",
       "2    <NA>\n",
       "3       5\n",
       "dtype: object"
      ]
     },
     "execution_count": 3,
     "metadata": {},
     "output_type": "execute_result"
    }
   ],
   "source": [
    "ser1 = pd.Series([1, 3, pd.NA, 5])\n",
    "ser1"
   ]
  },
  {
   "cell_type": "code",
   "execution_count": 4,
   "id": "f02bcaf3",
   "metadata": {},
   "outputs": [
    {
     "data": {
      "text/plain": [
       "0    False\n",
       "1    False\n",
       "2     True\n",
       "3    False\n",
       "dtype: bool"
      ]
     },
     "execution_count": 4,
     "metadata": {},
     "output_type": "execute_result"
    }
   ],
   "source": [
    "ser1.isna() # 결측값이 True"
   ]
  },
  {
   "cell_type": "code",
   "execution_count": 5,
   "id": "49f9d95d",
   "metadata": {},
   "outputs": [
    {
     "data": {
      "text/plain": [
       "0    False\n",
       "1    False\n",
       "2     True\n",
       "3    False\n",
       "dtype: bool"
      ]
     },
     "execution_count": 5,
     "metadata": {},
     "output_type": "execute_result"
    }
   ],
   "source": [
    "ser1.isnull() # 결측값이 True"
   ]
  },
  {
   "cell_type": "code",
   "execution_count": 6,
   "id": "e50033e4",
   "metadata": {},
   "outputs": [
    {
     "data": {
      "text/plain": [
       "0     True\n",
       "1     True\n",
       "2    False\n",
       "3     True\n",
       "dtype: bool"
      ]
     },
     "execution_count": 6,
     "metadata": {},
     "output_type": "execute_result"
    }
   ],
   "source": [
    "ser1.notna() # 관측값이 True"
   ]
  },
  {
   "cell_type": "code",
   "execution_count": 7,
   "id": "434418dc",
   "metadata": {},
   "outputs": [
    {
     "data": {
      "text/plain": [
       "0     True\n",
       "1     True\n",
       "2    False\n",
       "3     True\n",
       "dtype: bool"
      ]
     },
     "execution_count": 7,
     "metadata": {},
     "output_type": "execute_result"
    }
   ],
   "source": [
    "ser1.notnull() # 관측값이 True"
   ]
  },
  {
   "cell_type": "markdown",
   "id": "6634e296",
   "metadata": {},
   "source": [
    "상기 결측/관측 처리 메서드 .isna(), .isnull(), .notna(), .notnull() 을 활용하여 결측/관측치를 필터링 할 수 있음. 그리고 .isna()와 .isnull()은 동작이 같고, .notna()와 .notnull() 또한 서로 동작이 같아 사용자 입맛에 맞는 메서드를 사용하면 된다."
   ]
  },
  {
   "cell_type": "code",
   "execution_count": 8,
   "id": "48948db2",
   "metadata": {},
   "outputs": [
    {
     "data": {
      "text/plain": [
       "1"
      ]
     },
     "execution_count": 8,
     "metadata": {},
     "output_type": "execute_result"
    }
   ],
   "source": [
    "ser1.isna().sum()"
   ]
  },
  {
   "cell_type": "markdown",
   "id": "8b9ded15",
   "metadata": {},
   "source": [
    ".isna() 등 결측/관측 식별 메서드의 결과가 True/False인 점을 활용하여 .sum() 메서드로 Series 객체의 결측치 개수를 확인할 수 있다. 그리고 .isna() 관련 메서드를 DataFrame 객체에서 사용할 경우 모든 원소에 대해 결측/관측 검사를 실시하고 True/False 를 반환한다."
   ]
  },
  {
   "cell_type": "code",
   "execution_count": 9,
   "id": "c8ee20dc",
   "metadata": {},
   "outputs": [
    {
     "data": {
      "text/html": [
       "<div>\n",
       "<style scoped>\n",
       "    .dataframe tbody tr th:only-of-type {\n",
       "        vertical-align: middle;\n",
       "    }\n",
       "\n",
       "    .dataframe tbody tr th {\n",
       "        vertical-align: top;\n",
       "    }\n",
       "\n",
       "    .dataframe thead th {\n",
       "        text-align: right;\n",
       "    }\n",
       "</style>\n",
       "<table border=\"1\" class=\"dataframe\">\n",
       "  <thead>\n",
       "    <tr style=\"text-align: right;\">\n",
       "      <th></th>\n",
       "      <th>var1</th>\n",
       "      <th>var2</th>\n",
       "    </tr>\n",
       "  </thead>\n",
       "  <tbody>\n",
       "    <tr>\n",
       "      <th>0</th>\n",
       "      <td>1</td>\n",
       "      <td>100</td>\n",
       "    </tr>\n",
       "    <tr>\n",
       "      <th>1</th>\n",
       "      <td>2</td>\n",
       "      <td>&lt;NA&gt;</td>\n",
       "    </tr>\n",
       "    <tr>\n",
       "      <th>2</th>\n",
       "      <td>&lt;NA&gt;</td>\n",
       "      <td>&lt;NA&gt;</td>\n",
       "    </tr>\n",
       "  </tbody>\n",
       "</table>\n",
       "</div>"
      ],
      "text/plain": [
       "   var1  var2\n",
       "0     1   100\n",
       "1     2  <NA>\n",
       "2  <NA>  <NA>"
      ]
     },
     "execution_count": 9,
     "metadata": {},
     "output_type": "execute_result"
    }
   ],
   "source": [
    "df_na = pd.DataFrame({\"var1\": [1, 2, pd.NA],\n",
    "                      \"var2\": [100, pd.NA, pd.NA]})\n",
    "df_na"
   ]
  },
  {
   "cell_type": "code",
   "execution_count": 10,
   "id": "7bf02555",
   "metadata": {},
   "outputs": [
    {
     "data": {
      "text/html": [
       "<div>\n",
       "<style scoped>\n",
       "    .dataframe tbody tr th:only-of-type {\n",
       "        vertical-align: middle;\n",
       "    }\n",
       "\n",
       "    .dataframe tbody tr th {\n",
       "        vertical-align: top;\n",
       "    }\n",
       "\n",
       "    .dataframe thead th {\n",
       "        text-align: right;\n",
       "    }\n",
       "</style>\n",
       "<table border=\"1\" class=\"dataframe\">\n",
       "  <thead>\n",
       "    <tr style=\"text-align: right;\">\n",
       "      <th></th>\n",
       "      <th>var1</th>\n",
       "      <th>var2</th>\n",
       "    </tr>\n",
       "  </thead>\n",
       "  <tbody>\n",
       "    <tr>\n",
       "      <th>0</th>\n",
       "      <td>False</td>\n",
       "      <td>False</td>\n",
       "    </tr>\n",
       "    <tr>\n",
       "      <th>1</th>\n",
       "      <td>False</td>\n",
       "      <td>True</td>\n",
       "    </tr>\n",
       "    <tr>\n",
       "      <th>2</th>\n",
       "      <td>True</td>\n",
       "      <td>True</td>\n",
       "    </tr>\n",
       "  </tbody>\n",
       "</table>\n",
       "</div>"
      ],
      "text/plain": [
       "    var1   var2\n",
       "0  False  False\n",
       "1  False   True\n",
       "2   True   True"
      ]
     },
     "execution_count": 10,
     "metadata": {},
     "output_type": "execute_result"
    }
   ],
   "source": [
    "df_na.isna()"
   ]
  },
  {
   "cell_type": "code",
   "execution_count": 11,
   "id": "e5fe854f",
   "metadata": {},
   "outputs": [
    {
     "data": {
      "text/plain": [
       "var1    1\n",
       "var2    2\n",
       "dtype: int64"
      ]
     },
     "execution_count": 11,
     "metadata": {},
     "output_type": "execute_result"
    }
   ],
   "source": [
    "df_na.isna().sum()"
   ]
  },
  {
   "cell_type": "markdown",
   "id": "511d30e9",
   "metadata": {},
   "source": [
    "결측치가 .isna() 같은 메서드로 식별이 불가능한 빈칸, 하이픈 등 특수한 값으로 기록되어있는 경우 비교연산 관련 연산자나 메서드를 사용해야함."
   ]
  },
  {
   "cell_type": "code",
   "execution_count": 12,
   "id": "6d348b0c",
   "metadata": {},
   "outputs": [
    {
     "data": {
      "text/html": [
       "<div>\n",
       "<style scoped>\n",
       "    .dataframe tbody tr th:only-of-type {\n",
       "        vertical-align: middle;\n",
       "    }\n",
       "\n",
       "    .dataframe tbody tr th {\n",
       "        vertical-align: top;\n",
       "    }\n",
       "\n",
       "    .dataframe thead th {\n",
       "        text-align: right;\n",
       "    }\n",
       "</style>\n",
       "<table border=\"1\" class=\"dataframe\">\n",
       "  <thead>\n",
       "    <tr style=\"text-align: right;\">\n",
       "      <th></th>\n",
       "      <th>col1</th>\n",
       "      <th>col2</th>\n",
       "    </tr>\n",
       "  </thead>\n",
       "  <tbody>\n",
       "    <tr>\n",
       "      <th>0</th>\n",
       "      <td>11</td>\n",
       "      <td>x</td>\n",
       "    </tr>\n",
       "    <tr>\n",
       "      <th>1</th>\n",
       "      <td>22</td>\n",
       "      <td>30</td>\n",
       "    </tr>\n",
       "    <tr>\n",
       "      <th>2</th>\n",
       "      <td>-</td>\n",
       "      <td>x</td>\n",
       "    </tr>\n",
       "  </tbody>\n",
       "</table>\n",
       "</div>"
      ],
      "text/plain": [
       "  col1 col2\n",
       "0   11    x\n",
       "1   22   30\n",
       "2    -    x"
      ]
     },
     "execution_count": 12,
     "metadata": {},
     "output_type": "execute_result"
    }
   ],
   "source": [
    "df_sna = pd.DataFrame({\"col1\": [11, 22, \"-\"],\n",
    "                       \"col2\": [\"x\", 30, \"x\"]})\n",
    "df_sna"
   ]
  },
  {
   "cell_type": "code",
   "execution_count": 13,
   "id": "79f25016",
   "metadata": {},
   "outputs": [
    {
     "data": {
      "text/plain": [
       "(1, 1)"
      ]
     },
     "execution_count": 13,
     "metadata": {},
     "output_type": "execute_result"
    }
   ],
   "source": [
    "sum(df_sna[\"col1\"] == \"-\"), (df_sna[\"col1\"] == \"-\").sum()"
   ]
  },
  {
   "cell_type": "code",
   "execution_count": 14,
   "id": "f7ce0bfe",
   "metadata": {},
   "outputs": [
    {
     "data": {
      "text/plain": [
       "col1    1\n",
       "col2    2\n",
       "dtype: int64"
      ]
     },
     "execution_count": 14,
     "metadata": {},
     "output_type": "execute_result"
    }
   ],
   "source": [
    "df_sna.apply(lambda x: x.isin([\"-\", \"x\"]).sum())"
   ]
  },
  {
   "cell_type": "code",
   "execution_count": 15,
   "id": "86c1a7ca",
   "metadata": {},
   "outputs": [
    {
     "data": {
      "text/plain": [
       "col1    1\n",
       "col2    2\n",
       "dtype: int64"
      ]
     },
     "execution_count": 15,
     "metadata": {},
     "output_type": "execute_result"
    }
   ],
   "source": [
    "def na_counter(x, na_type):\n",
    "    return x.isin(na_type).sum()\n",
    "\n",
    "df_sna.apply(na_counter, na_type = [\"-\", \"x\"])"
   ]
  },
  {
   "cell_type": "markdown",
   "id": "f370e737",
   "metadata": {},
   "source": [
    "### 결측치의 필터링"
   ]
  },
  {
   "cell_type": "code",
   "execution_count": 16,
   "id": "abadab08",
   "metadata": {},
   "outputs": [
    {
     "data": {
      "text/plain": [
       "2    <NA>\n",
       "dtype: object"
      ]
     },
     "execution_count": 16,
     "metadata": {},
     "output_type": "execute_result"
    }
   ],
   "source": [
    "ser1[ser1.isna()]"
   ]
  },
  {
   "cell_type": "code",
   "execution_count": 17,
   "id": "58c378dd",
   "metadata": {},
   "outputs": [
    {
     "data": {
      "text/plain": [
       "0    1\n",
       "1    3\n",
       "3    5\n",
       "dtype: object"
      ]
     },
     "execution_count": 17,
     "metadata": {},
     "output_type": "execute_result"
    }
   ],
   "source": [
    "ser1[ser1.notna()]"
   ]
  },
  {
   "cell_type": "code",
   "execution_count": 18,
   "id": "935e04a7",
   "metadata": {},
   "outputs": [
    {
     "data": {
      "text/plain": [
       "0    1\n",
       "1    3\n",
       "3    5\n",
       "dtype: object"
      ]
     },
     "execution_count": 18,
     "metadata": {},
     "output_type": "execute_result"
    }
   ],
   "source": [
    "ser1[~ser1.isna()] # ~ 표시는 True/False를 반전시킴"
   ]
  },
  {
   "cell_type": "markdown",
   "id": "77b27072",
   "metadata": {},
   "source": [
    "### 결측치의 제거"
   ]
  },
  {
   "cell_type": "markdown",
   "id": "fdd5b91b",
   "metadata": {},
   "source": [
    "Series 객체의 경우 .notna() 메서드를 사용한 필터링 보다 .dropna() 를 사용한 결측치 제거가 보다 간결하다. 단, DataFrame객체의 경우 특정 변수에 있는 결측치를 기준으로 필터링 할 때에는 .isna() 또는 .notna()가 필요하며 .dropna() 는 결측치를 일괄(전체 변수)로 다루는 경우 사용된다."
   ]
  },
  {
   "cell_type": "code",
   "execution_count": 19,
   "id": "cf36248c",
   "metadata": {},
   "outputs": [
    {
     "data": {
      "text/plain": [
       "0    1\n",
       "1    3\n",
       "3    5\n",
       "dtype: object"
      ]
     },
     "execution_count": 19,
     "metadata": {},
     "output_type": "execute_result"
    }
   ],
   "source": [
    "ser2 = ser1[ser1.notna()]\n",
    "ser2"
   ]
  },
  {
   "cell_type": "code",
   "execution_count": 20,
   "id": "3b078527",
   "metadata": {},
   "outputs": [
    {
     "data": {
      "text/plain": [
       "0    1\n",
       "1    3\n",
       "3    5\n",
       "dtype: object"
      ]
     },
     "execution_count": 20,
     "metadata": {},
     "output_type": "execute_result"
    }
   ],
   "source": [
    "ser3 = ser1.dropna()\n",
    "ser3"
   ]
  },
  {
   "cell_type": "code",
   "execution_count": 21,
   "id": "632fa2c8",
   "metadata": {},
   "outputs": [
    {
     "data": {
      "text/html": [
       "<div>\n",
       "<style scoped>\n",
       "    .dataframe tbody tr th:only-of-type {\n",
       "        vertical-align: middle;\n",
       "    }\n",
       "\n",
       "    .dataframe tbody tr th {\n",
       "        vertical-align: top;\n",
       "    }\n",
       "\n",
       "    .dataframe thead th {\n",
       "        text-align: right;\n",
       "    }\n",
       "</style>\n",
       "<table border=\"1\" class=\"dataframe\">\n",
       "  <thead>\n",
       "    <tr style=\"text-align: right;\">\n",
       "      <th></th>\n",
       "      <th>var1</th>\n",
       "      <th>var2</th>\n",
       "    </tr>\n",
       "  </thead>\n",
       "  <tbody>\n",
       "    <tr>\n",
       "      <th>0</th>\n",
       "      <td>1</td>\n",
       "      <td>100</td>\n",
       "    </tr>\n",
       "  </tbody>\n",
       "</table>\n",
       "</div>"
      ],
      "text/plain": [
       "  var1 var2\n",
       "0    1  100"
      ]
     },
     "execution_count": 21,
     "metadata": {},
     "output_type": "execute_result"
    }
   ],
   "source": [
    "df_na.dropna()"
   ]
  },
  {
   "cell_type": "code",
   "execution_count": 22,
   "id": "8db0e934",
   "metadata": {},
   "outputs": [
    {
     "data": {
      "text/html": [
       "<div>\n",
       "<style scoped>\n",
       "    .dataframe tbody tr th:only-of-type {\n",
       "        vertical-align: middle;\n",
       "    }\n",
       "\n",
       "    .dataframe tbody tr th {\n",
       "        vertical-align: top;\n",
       "    }\n",
       "\n",
       "    .dataframe thead th {\n",
       "        text-align: right;\n",
       "    }\n",
       "</style>\n",
       "<table border=\"1\" class=\"dataframe\">\n",
       "  <thead>\n",
       "    <tr style=\"text-align: right;\">\n",
       "      <th></th>\n",
       "      <th>var1</th>\n",
       "      <th>var2</th>\n",
       "    </tr>\n",
       "  </thead>\n",
       "  <tbody>\n",
       "    <tr>\n",
       "      <th>0</th>\n",
       "      <td>1</td>\n",
       "      <td>100</td>\n",
       "    </tr>\n",
       "    <tr>\n",
       "      <th>1</th>\n",
       "      <td>2</td>\n",
       "      <td>&lt;NA&gt;</td>\n",
       "    </tr>\n",
       "  </tbody>\n",
       "</table>\n",
       "</div>"
      ],
      "text/plain": [
       "  var1  var2\n",
       "0    1   100\n",
       "1    2  <NA>"
      ]
     },
     "execution_count": 22,
     "metadata": {},
     "output_type": "execute_result"
    }
   ],
   "source": [
    "# how = \"all\": 특정 행의 원소가 모두 결측값으로 구성되어 있는 경우 해당 행 제거\n",
    "df_na.dropna(how = \"all\") "
   ]
  },
  {
   "cell_type": "code",
   "execution_count": 23,
   "id": "7591bd55",
   "metadata": {},
   "outputs": [
    {
     "data": {
      "text/html": [
       "<div>\n",
       "<style scoped>\n",
       "    .dataframe tbody tr th:only-of-type {\n",
       "        vertical-align: middle;\n",
       "    }\n",
       "\n",
       "    .dataframe tbody tr th {\n",
       "        vertical-align: top;\n",
       "    }\n",
       "\n",
       "    .dataframe thead th {\n",
       "        text-align: right;\n",
       "    }\n",
       "</style>\n",
       "<table border=\"1\" class=\"dataframe\">\n",
       "  <thead>\n",
       "    <tr style=\"text-align: right;\">\n",
       "      <th></th>\n",
       "      <th>var1</th>\n",
       "      <th>var2</th>\n",
       "    </tr>\n",
       "  </thead>\n",
       "  <tbody>\n",
       "    <tr>\n",
       "      <th>0</th>\n",
       "      <td>1</td>\n",
       "      <td>100</td>\n",
       "    </tr>\n",
       "  </tbody>\n",
       "</table>\n",
       "</div>"
      ],
      "text/plain": [
       "  var1 var2\n",
       "0    1  100"
      ]
     },
     "execution_count": 23,
     "metadata": {},
     "output_type": "execute_result"
    }
   ],
   "source": [
    "df_not_na = df_na.dropna()\n",
    "df_not_na"
   ]
  },
  {
   "cell_type": "code",
   "execution_count": 24,
   "id": "ef3d8aaf",
   "metadata": {},
   "outputs": [
    {
     "data": {
      "text/html": [
       "<div>\n",
       "<style scoped>\n",
       "    .dataframe tbody tr th:only-of-type {\n",
       "        vertical-align: middle;\n",
       "    }\n",
       "\n",
       "    .dataframe tbody tr th {\n",
       "        vertical-align: top;\n",
       "    }\n",
       "\n",
       "    .dataframe thead th {\n",
       "        text-align: right;\n",
       "    }\n",
       "</style>\n",
       "<table border=\"1\" class=\"dataframe\">\n",
       "  <thead>\n",
       "    <tr style=\"text-align: right;\">\n",
       "      <th></th>\n",
       "      <th>var1</th>\n",
       "      <th>var2</th>\n",
       "    </tr>\n",
       "  </thead>\n",
       "  <tbody>\n",
       "    <tr>\n",
       "      <th>0</th>\n",
       "      <td>1</td>\n",
       "      <td>100</td>\n",
       "    </tr>\n",
       "    <tr>\n",
       "      <th>1</th>\n",
       "      <td>2</td>\n",
       "      <td>&lt;NA&gt;</td>\n",
       "    </tr>\n",
       "  </tbody>\n",
       "</table>\n",
       "</div>"
      ],
      "text/plain": [
       "  var1  var2\n",
       "0    1   100\n",
       "1    2  <NA>"
      ]
     },
     "execution_count": 24,
     "metadata": {},
     "output_type": "execute_result"
    }
   ],
   "source": [
    "df_na.loc[df_na[\"var1\"].notna(), ]"
   ]
  },
  {
   "cell_type": "markdown",
   "id": "cbfa9ec6",
   "metadata": {},
   "source": [
    "### 결측치의 대치(imputation)"
   ]
  },
  {
   "cell_type": "markdown",
   "id": "43649c1e",
   "metadata": {},
   "source": [
    "결측치의 대치는 .fillna() 같은 결측치 대치 전용 메서드를 사용하거나 .isna() 같은 결측치 식별 메서드를 활용한 방법이 있을 수 있다."
   ]
  },
  {
   "cell_type": "code",
   "execution_count": 25,
   "id": "8acae526",
   "metadata": {},
   "outputs": [
    {
     "data": {
      "text/plain": [
       "0    1\n",
       "1    3\n",
       "2    0\n",
       "3    5\n",
       "dtype: int64"
      ]
     },
     "execution_count": 25,
     "metadata": {},
     "output_type": "execute_result"
    }
   ],
   "source": [
    "ser1.fillna(0)"
   ]
  },
  {
   "cell_type": "code",
   "execution_count": 26,
   "id": "89e897d6",
   "metadata": {},
   "outputs": [
    {
     "data": {
      "text/plain": [
       "0    1\n",
       "1    3\n",
       "2    0\n",
       "3    5\n",
       "dtype: int64"
      ]
     },
     "execution_count": 26,
     "metadata": {},
     "output_type": "execute_result"
    }
   ],
   "source": [
    "ser4 = ser1.fillna(0)\n",
    "ser4"
   ]
  },
  {
   "cell_type": "code",
   "execution_count": 27,
   "id": "056946a8",
   "metadata": {},
   "outputs": [
    {
     "data": {
      "text/plain": [
       "0    1.0\n",
       "1    3.0\n",
       "2    3.0\n",
       "3    5.0\n",
       "dtype: float64"
      ]
     },
     "execution_count": 27,
     "metadata": {},
     "output_type": "execute_result"
    }
   ],
   "source": [
    "ser5 = ser1.fillna(ser1.mean()) # 평균값 대치\n",
    "ser5"
   ]
  },
  {
   "cell_type": "markdown",
   "id": "36a18fb8",
   "metadata": {},
   "source": [
    "시계열 데이터의 경우 결측치 발생 이전의 데이터 또는 결측치 발생 이후의 데이터를 끌어와서 채워넣어야 하는 경우가 있다. 이를 위해 .fillna() 메서드에서는 \"method\" 인자를 제공하며 여기서 \"ffill\" 또는 \"bfill\"을 사용할 수 있다."
   ]
  },
  {
   "cell_type": "code",
   "execution_count": 28,
   "id": "64a6a9e2",
   "metadata": {},
   "outputs": [
    {
     "data": {
      "text/plain": [
       "0    1\n",
       "1    3\n",
       "2    3\n",
       "3    5\n",
       "dtype: int64"
      ]
     },
     "execution_count": 28,
     "metadata": {},
     "output_type": "execute_result"
    }
   ],
   "source": [
    "ser1.fillna(method = \"ffill\")"
   ]
  },
  {
   "cell_type": "code",
   "execution_count": 29,
   "id": "e94b568d",
   "metadata": {},
   "outputs": [
    {
     "data": {
      "text/plain": [
       "0    1\n",
       "1    3\n",
       "2    5\n",
       "3    5\n",
       "dtype: int64"
      ]
     },
     "execution_count": 29,
     "metadata": {},
     "output_type": "execute_result"
    }
   ],
   "source": [
    "ser1.fillna(method = \"bfill\")"
   ]
  },
  {
   "cell_type": "code",
   "execution_count": 30,
   "id": "b09b64ef",
   "metadata": {},
   "outputs": [
    {
     "data": {
      "text/plain": [
       "0       1\n",
       "1       3\n",
       "2    <NA>\n",
       "3       5\n",
       "dtype: object"
      ]
     },
     "execution_count": 30,
     "metadata": {},
     "output_type": "execute_result"
    }
   ],
   "source": [
    "ser1"
   ]
  },
  {
   "cell_type": "code",
   "execution_count": 31,
   "id": "2e8865fd",
   "metadata": {},
   "outputs": [],
   "source": [
    "# ser1.interpolate() # pd.NA로 생성된 결측은 보간(interpolate)을 지원하지 않음"
   ]
  },
  {
   "cell_type": "code",
   "execution_count": 32,
   "id": "6d9d8c8e",
   "metadata": {},
   "outputs": [
    {
     "data": {
      "text/plain": [
       "0    0.0\n",
       "1    1.0\n",
       "2    2.0\n",
       "3    3.0\n",
       "dtype: float64"
      ]
     },
     "execution_count": 32,
     "metadata": {},
     "output_type": "execute_result"
    }
   ],
   "source": [
    "ser6 = pd.Series([0, 1, np.nan, 3])\n",
    "ser6.interpolate()"
   ]
  },
  {
   "cell_type": "code",
   "execution_count": null,
   "id": "3a2b2ed1",
   "metadata": {},
   "outputs": [],
   "source": []
  }
 ],
 "metadata": {
  "kernelspec": {
   "display_name": "Python 3 (ipykernel)",
   "language": "python",
   "name": "python3"
  },
  "language_info": {
   "codemirror_mode": {
    "name": "ipython",
    "version": 3
   },
   "file_extension": ".py",
   "mimetype": "text/x-python",
   "name": "python",
   "nbconvert_exporter": "python",
   "pygments_lexer": "ipython3",
   "version": "3.9.12"
  }
 },
 "nbformat": 4,
 "nbformat_minor": 5
}
