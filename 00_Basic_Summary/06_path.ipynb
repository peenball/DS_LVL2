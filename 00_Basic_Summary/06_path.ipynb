{
 "cells": [
  {
   "cell_type": "markdown",
   "id": "4d2c3ee7",
   "metadata": {},
   "source": [
    "### 작업폴더\n",
    "코드를 실행하고 파일 입출력을 하는 등 각종 작업의 기준이 되는 폴더(또는 디렉터리).  \n",
    "작업폴더와 관련된 작업은 주로 \"os\" 라이브러리로 한다."
   ]
  },
  {
   "cell_type": "code",
   "execution_count": 1,
   "id": "94189cf6",
   "metadata": {},
   "outputs": [],
   "source": [
    "import os"
   ]
  },
  {
   "cell_type": "code",
   "execution_count": 2,
   "id": "f914d64b",
   "metadata": {},
   "outputs": [
    {
     "data": {
      "text/plain": [
       "'C:\\\\Users\\\\encai\\\\desktop\\\\python_class\\\\summary'"
      ]
     },
     "execution_count": 2,
     "metadata": {},
     "output_type": "execute_result"
    }
   ],
   "source": [
    "# 현재 작업폴더 경로 확인\n",
    "os.getcwd() # get current working directory"
   ]
  },
  {
   "cell_type": "code",
   "execution_count": 3,
   "id": "8b06ac23",
   "metadata": {},
   "outputs": [
    {
     "data": {
      "text/plain": [
       "'C:\\\\Users\\\\encai\\\\desktop\\\\python_class'"
      ]
     },
     "execution_count": 3,
     "metadata": {},
     "output_type": "execute_result"
    }
   ],
   "source": [
    "os.chdir(\"..\") # Change the current working directory, 상위폴더로 이동\n",
    "os.getcwd()"
   ]
  },
  {
   "cell_type": "code",
   "execution_count": 5,
   "id": "49d15874",
   "metadata": {},
   "outputs": [
    {
     "data": {
      "text/plain": [
       "'C:\\\\Users\\\\encai\\\\desktop\\\\python_class\\\\summary'"
      ]
     },
     "execution_count": 5,
     "metadata": {},
     "output_type": "execute_result"
    }
   ],
   "source": [
    "os.chdir(\"summary\") # python_class 폴더 내부의 summary 폴더로 이동\n",
    "os.getcwd()"
   ]
  },
  {
   "cell_type": "markdown",
   "id": "e049e878",
   "metadata": {},
   "source": [
    "getcwd() 함수의 결과로 출력되는 경로는 절대경로.  \n",
    "상기 코드의 chdir() 함수에 입력한 경로는 상대경로.  "
   ]
  },
  {
   "cell_type": "markdown",
   "id": "d62aaa90",
   "metadata": {},
   "source": [
    "절대경로는 드라이브 알파벳부터 시작하여 현재 위치까지 경로를 모두 기술  \n",
    "상대경로는 특정 위치를 기준으로 기술하는 경로. 즉, 드라이브 알파벳 부터 특정 위치까지의 경로의 기술은 생략"
   ]
  },
  {
   "cell_type": "code",
   "execution_count": null,
   "id": "8812e6e1",
   "metadata": {},
   "outputs": [],
   "source": []
  }
 ],
 "metadata": {
  "kernelspec": {
   "display_name": "Python 3 (ipykernel)",
   "language": "python",
   "name": "python3"
  },
  "language_info": {
   "codemirror_mode": {
    "name": "ipython",
    "version": 3
   },
   "file_extension": ".py",
   "mimetype": "text/x-python",
   "name": "python",
   "nbconvert_exporter": "python",
   "pygments_lexer": "ipython3",
   "version": "3.9.13"
  }
 },
 "nbformat": 4,
 "nbformat_minor": 5
}
