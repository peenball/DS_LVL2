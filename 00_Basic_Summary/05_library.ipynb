{
 "cells": [
  {
   "cell_type": "markdown",
   "id": "8c19bbd8",
   "metadata": {},
   "source": [
    "# 라이브러리\n",
    "사용자 정의 함수와 더불어 많은 내용을 패키징한 것으로 각종 함수와 클래스 등을 보다 편리하게 사용할 수 있도록 만들어 놓은 것.\n",
    "\n",
    "### 데이터 분석에 사용하는 대표적인 라이브러리\n",
    "* os: 작업폴더 확인/설정, 각종 파일 핸들링\n",
    "* re: 정규표현식(regular expression)을 지원하는 라이브러리로 Pandas로 대체 가능\n",
    "* time: 시간 관련 함수(특히 sleep은 데이터 수집시 사용)\n",
    "* datetime: 시간 데이터 핸들링 라이브러리로 Pandas로 대체 가능\n",
    "* NumPy: Numeric Python. 즉, 각종 수치연산을 지원하는 라이브러리로 각종 데이터 분석 라이브러리의 근간이 된다.\n",
    "* Pandas: NumPy기반 라이브러리로 독자적인 객체 기반 고급 데이터 핸들링 함수 또는 메서드 지원\n",
    "* SciPy: Scientific Pyhton. NumPy기반 라이브러리로 각종 과학기술 분석에서 사용하는 함수 및 메서드 지원.\n",
    "* StatsModels: 전문적인 통계분석을 지원하는 라이브러리. 이 라이브러리 개발자들은 R이 없는 세상을 꿈꾼다.\n",
    "* sklearn: 머신러닝 알고리즘을 지원하는 라이브러리. 인공신경망 이전의 범용 머신러닝 알고리즘 및 그와 관련된 함수 또는 메서드를 대부분 지원.\n",
    "* matplotlib: 파이썬에서 그래프를 구현하는 기본 라이브러리\n",
    "* Seaborn: 파이썬에서 그래프를 구현하는 고수준 라이브러리"
   ]
  },
  {
   "cell_type": "markdown",
   "id": "37e41bb0",
   "metadata": {},
   "source": [
    "### 라이브러리 설치\n",
    "cmd(명령 프롬프트) 또는 주피터 노트북에서 설치 가능.  \n",
    "\"pip\"라는 명령어를 사용.  \n",
    "\n",
    "* cmd에서 직접 명령어를 작성하는 경우\n",
    "> pip install 라이브러리명  \n",
    "> pip install 라이브러리명 --user\n",
    "\n",
    "* 주피터 노트북에서 명령어를 작성하는 경우\n",
    "> !pip install 라이브러리명  \n",
    "> !pip install 라이브러리명 --user\n",
    "\n",
    "가끔 pip 버전이 낮아서 라이브러리를 제대로 설치 못하는 경우가 있는데 그 때는 pip를 업그레이드 해야함."
   ]
  },
  {
   "cell_type": "markdown",
   "id": "ce4a0ec5",
   "metadata": {},
   "source": [
    "### 라이브러리 업데이트\n",
    "라이브러리 설치시 사용하는 명령어 뒤에 \"--upgrade\"를 붙여주면 됨."
   ]
  },
  {
   "cell_type": "markdown",
   "id": "9477083a",
   "metadata": {},
   "source": [
    "### 특정 버전의 라이브러리 설치\n",
    "구글에서 \"install specific version of library python\" 로 검색하면 좋음.  \n",
    "라이브러리명 뒤에 2개의 등호와 버전을 이어서 명시하면 되고 띄어쓰기는 하지 않음.\n",
    "\n",
    "> pip install pandas==1.5.0 --user"
   ]
  },
  {
   "cell_type": "markdown",
   "id": "bae047be",
   "metadata": {},
   "source": [
    "### 라이브러리 불러오기\n",
    "\"import\", \"from\"을 사용하여 라이브러리의 함수를 불러올 수 있으며 보통 라이브러리 전체를 불러오고자 하는 경우 \"import\"를 주로 사용하며 라이브러리의 일부 함수를 불러오는 경우 \"from\"을 사용함. 단, \"from\"을 사용하는 경우 반드시 \"import\"도 같이 사용해야 한다.  \n",
    "라이브러리명 또는 함수명이 너무 길어 변경이 필요한 경우 별칭(alias)를 지정하는 \"as\"를 사용할 수 있다.\n",
    "\n",
    "> **import** pandas **as** pd  \n",
    "> **from** scipy.stats **import** ttest_ind\n",
    "\n",
    "라이브러리는 세션이 재부팅 되거나 주피터 노트북을 새로 켜는경우 불러오는 코드를 다시 실행해야 한다."
   ]
  },
  {
   "cell_type": "code",
   "execution_count": null,
   "id": "bb401af1",
   "metadata": {},
   "outputs": [],
   "source": []
  },
  {
   "cell_type": "code",
   "execution_count": null,
   "id": "4badc995",
   "metadata": {},
   "outputs": [],
   "source": []
  },
  {
   "cell_type": "code",
   "execution_count": null,
   "id": "7bc013d9",
   "metadata": {},
   "outputs": [],
   "source": []
  },
  {
   "cell_type": "code",
   "execution_count": null,
   "id": "ccde7241",
   "metadata": {},
   "outputs": [],
   "source": []
  }
 ],
 "metadata": {
  "kernelspec": {
   "display_name": "Python 3 (ipykernel)",
   "language": "python",
   "name": "python3"
  },
  "language_info": {
   "codemirror_mode": {
    "name": "ipython",
    "version": 3
   },
   "file_extension": ".py",
   "mimetype": "text/x-python",
   "name": "python",
   "nbconvert_exporter": "python",
   "pygments_lexer": "ipython3",
   "version": "3.9.13"
  }
 },
 "nbformat": 4,
 "nbformat_minor": 5
}
