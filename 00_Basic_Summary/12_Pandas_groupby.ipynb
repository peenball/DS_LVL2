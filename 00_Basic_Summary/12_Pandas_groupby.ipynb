{
 "cells": [
  {
   "cell_type": "code",
   "execution_count": 1,
   "id": "85eaf232",
   "metadata": {},
   "outputs": [],
   "source": [
    "import pandas as pd"
   ]
  },
  {
   "cell_type": "code",
   "execution_count": 2,
   "id": "c5b01636",
   "metadata": {},
   "outputs": [
    {
     "data": {
      "text/html": [
       "<div>\n",
       "<style scoped>\n",
       "    .dataframe tbody tr th:only-of-type {\n",
       "        vertical-align: middle;\n",
       "    }\n",
       "\n",
       "    .dataframe tbody tr th {\n",
       "        vertical-align: top;\n",
       "    }\n",
       "\n",
       "    .dataframe thead th {\n",
       "        text-align: right;\n",
       "    }\n",
       "</style>\n",
       "<table border=\"1\" class=\"dataframe\">\n",
       "  <thead>\n",
       "    <tr style=\"text-align: right;\">\n",
       "      <th></th>\n",
       "      <th>cat</th>\n",
       "      <th>type</th>\n",
       "      <th>price</th>\n",
       "      <th>star</th>\n",
       "    </tr>\n",
       "  </thead>\n",
       "  <tbody>\n",
       "    <tr>\n",
       "      <th>0</th>\n",
       "      <td>food</td>\n",
       "      <td>A</td>\n",
       "      <td>100</td>\n",
       "      <td>3.1</td>\n",
       "    </tr>\n",
       "    <tr>\n",
       "      <th>1</th>\n",
       "      <td>food</td>\n",
       "      <td>A</td>\n",
       "      <td>100</td>\n",
       "      <td>3.5</td>\n",
       "    </tr>\n",
       "    <tr>\n",
       "      <th>2</th>\n",
       "      <td>snack</td>\n",
       "      <td>B</td>\n",
       "      <td>300</td>\n",
       "      <td>4.3</td>\n",
       "    </tr>\n",
       "    <tr>\n",
       "      <th>3</th>\n",
       "      <td>snack</td>\n",
       "      <td>C</td>\n",
       "      <td>200</td>\n",
       "      <td>4.0</td>\n",
       "    </tr>\n",
       "    <tr>\n",
       "      <th>4</th>\n",
       "      <td>snack</td>\n",
       "      <td>B</td>\n",
       "      <td>500</td>\n",
       "      <td>3.9</td>\n",
       "    </tr>\n",
       "  </tbody>\n",
       "</table>\n",
       "</div>"
      ],
      "text/plain": [
       "     cat type  price  star\n",
       "0   food    A    100   3.1\n",
       "1   food    A    100   3.5\n",
       "2  snack    B    300   4.3\n",
       "3  snack    C    200   4.0\n",
       "4  snack    B    500   3.9"
      ]
     },
     "execution_count": 2,
     "metadata": {},
     "output_type": "execute_result"
    }
   ],
   "source": [
    "df = pd.DataFrame({\"cat\": [\"food\", \"food\", \"snack\", \"snack\", \"snack\"],\n",
    "                   \"type\": [\"A\", \"A\", \"B\", \"C\", \"B\"],\n",
    "                   \"price\": [100, 100, 300, 200, 500],\n",
    "                   \"star\": [3.1, 3.5, 4.3, 4, 3.9]})\n",
    "df"
   ]
  },
  {
   "cell_type": "markdown",
   "id": "f028dc31",
   "metadata": {},
   "source": [
    ".groupby() 메서드는 메서드 내부에 데이터프레임의 특정 기준 변수명을 입력하여 해당 변수를 기준으로 다른 변수를 요약 연산을 실시할 수 있도록 지원하는 메서드. 기준 변수의 경우 그 개수가 하나일 경우 단순 문자열로 입력하면 되나, 두 개 이상인 경우 변수명을 리스트로 감싼다. 그리고 요약 연산의 대상이 되는 변수는 메서드 뒤에 대괄호를 사용하여 명시한다. 마지막으로 연산 규칙 또는 알고리즘은 대괄호 뒤에 적절한 메서드(.mean(), .agg() 등)를 사용하여 지정한다."
   ]
  },
  {
   "cell_type": "code",
   "execution_count": 3,
   "id": "53accacd",
   "metadata": {},
   "outputs": [
    {
     "data": {
      "text/plain": [
       "cat\n",
       "food     3.300000\n",
       "snack    4.066667\n",
       "Name: star, dtype: float64"
      ]
     },
     "execution_count": 3,
     "metadata": {},
     "output_type": "execute_result"
    }
   ],
   "source": [
    "df.groupby(\"cat\")[\"star\"].mean()"
   ]
  },
  {
   "cell_type": "markdown",
   "id": "4763fadd",
   "metadata": {},
   "source": [
    ".groupby() 메서드 내부에 명시한 변수명은 각 변수의 원소 고유값이 인덱스로 지정되며 단일 변수를 요약하는 경우 그 결과가 Pandas Series객체로 반환된다."
   ]
  },
  {
   "cell_type": "code",
   "execution_count": 4,
   "id": "9ec828c6",
   "metadata": {},
   "outputs": [
    {
     "data": {
      "text/html": [
       "<div>\n",
       "<style scoped>\n",
       "    .dataframe tbody tr th:only-of-type {\n",
       "        vertical-align: middle;\n",
       "    }\n",
       "\n",
       "    .dataframe tbody tr th {\n",
       "        vertical-align: top;\n",
       "    }\n",
       "\n",
       "    .dataframe thead th {\n",
       "        text-align: right;\n",
       "    }\n",
       "</style>\n",
       "<table border=\"1\" class=\"dataframe\">\n",
       "  <thead>\n",
       "    <tr style=\"text-align: right;\">\n",
       "      <th></th>\n",
       "      <th>price</th>\n",
       "      <th>star</th>\n",
       "    </tr>\n",
       "    <tr>\n",
       "      <th>cat</th>\n",
       "      <th></th>\n",
       "      <th></th>\n",
       "    </tr>\n",
       "  </thead>\n",
       "  <tbody>\n",
       "    <tr>\n",
       "      <th>food</th>\n",
       "      <td>100.000000</td>\n",
       "      <td>3.300000</td>\n",
       "    </tr>\n",
       "    <tr>\n",
       "      <th>snack</th>\n",
       "      <td>333.333333</td>\n",
       "      <td>4.066667</td>\n",
       "    </tr>\n",
       "  </tbody>\n",
       "</table>\n",
       "</div>"
      ],
      "text/plain": [
       "            price      star\n",
       "cat                        \n",
       "food   100.000000  3.300000\n",
       "snack  333.333333  4.066667"
      ]
     },
     "execution_count": 4,
     "metadata": {},
     "output_type": "execute_result"
    }
   ],
   "source": [
    "df.groupby(\"cat\")[[\"price\", \"star\"]].mean()"
   ]
  },
  {
   "cell_type": "code",
   "execution_count": 5,
   "id": "bb64a09a",
   "metadata": {},
   "outputs": [
    {
     "name": "stderr",
     "output_type": "stream",
     "text": [
      "C:\\Users\\Encaion\\AppData\\Local\\Temp\\ipykernel_3712\\1262868425.py:1: FutureWarning: Indexing with multiple keys (implicitly converted to a tuple of keys) will be deprecated, use a list instead.\n",
      "  df.groupby(\"cat\")[\"price\", \"star\"].mean() # 권장x\n"
     ]
    },
    {
     "data": {
      "text/html": [
       "<div>\n",
       "<style scoped>\n",
       "    .dataframe tbody tr th:only-of-type {\n",
       "        vertical-align: middle;\n",
       "    }\n",
       "\n",
       "    .dataframe tbody tr th {\n",
       "        vertical-align: top;\n",
       "    }\n",
       "\n",
       "    .dataframe thead th {\n",
       "        text-align: right;\n",
       "    }\n",
       "</style>\n",
       "<table border=\"1\" class=\"dataframe\">\n",
       "  <thead>\n",
       "    <tr style=\"text-align: right;\">\n",
       "      <th></th>\n",
       "      <th>price</th>\n",
       "      <th>star</th>\n",
       "    </tr>\n",
       "    <tr>\n",
       "      <th>cat</th>\n",
       "      <th></th>\n",
       "      <th></th>\n",
       "    </tr>\n",
       "  </thead>\n",
       "  <tbody>\n",
       "    <tr>\n",
       "      <th>food</th>\n",
       "      <td>100.000000</td>\n",
       "      <td>3.300000</td>\n",
       "    </tr>\n",
       "    <tr>\n",
       "      <th>snack</th>\n",
       "      <td>333.333333</td>\n",
       "      <td>4.066667</td>\n",
       "    </tr>\n",
       "  </tbody>\n",
       "</table>\n",
       "</div>"
      ],
      "text/plain": [
       "            price      star\n",
       "cat                        \n",
       "food   100.000000  3.300000\n",
       "snack  333.333333  4.066667"
      ]
     },
     "execution_count": 5,
     "metadata": {},
     "output_type": "execute_result"
    }
   ],
   "source": [
    "df.groupby(\"cat\")[\"price\", \"star\"].mean() # 권장x"
   ]
  },
  {
   "cell_type": "markdown",
   "id": "b4e5b23f",
   "metadata": {},
   "source": [
    "두 개 이상의 변수를 대상으로 연산하는 경우 .groupby() 메서드 뒤의 대괄호 내부에 대상 변수명을 리스트로 감싸야 한다. 리스트로 감싸지 않고 쉼표로만 구분하는 경우는 tuple로 인식되어 처리가 되기때문에 \"FutureWarning\"이 발생함."
   ]
  },
  {
   "cell_type": "code",
   "execution_count": 6,
   "id": "90d49d79",
   "metadata": {},
   "outputs": [
    {
     "data": {
      "text/plain": [
       "cat    type\n",
       "food   A       100.0\n",
       "snack  B       400.0\n",
       "       C       200.0\n",
       "Name: price, dtype: float64"
      ]
     },
     "execution_count": 6,
     "metadata": {},
     "output_type": "execute_result"
    }
   ],
   "source": [
    "df.groupby([\"cat\", \"type\"])[\"price\"].mean()"
   ]
  },
  {
   "cell_type": "code",
   "execution_count": 8,
   "id": "8291e309",
   "metadata": {},
   "outputs": [],
   "source": [
    "# df.groupby(\"cat\", \"type\")[\"price\"].mean() # 에러!"
   ]
  },
  {
   "cell_type": "markdown",
   "id": "eebe5550",
   "metadata": {},
   "source": [
    ".groupby() 메서드 내부에 2개 이상의 기준 변수를 지정할 경우 리스트로 감싸주지 않으면 에러가 발생한다."
   ]
  },
  {
   "cell_type": "code",
   "execution_count": 10,
   "id": "095c4eab",
   "metadata": {},
   "outputs": [
    {
     "data": {
      "text/html": [
       "<div>\n",
       "<style scoped>\n",
       "    .dataframe tbody tr th:only-of-type {\n",
       "        vertical-align: middle;\n",
       "    }\n",
       "\n",
       "    .dataframe tbody tr th {\n",
       "        vertical-align: top;\n",
       "    }\n",
       "\n",
       "    .dataframe thead th {\n",
       "        text-align: right;\n",
       "    }\n",
       "</style>\n",
       "<table border=\"1\" class=\"dataframe\">\n",
       "  <thead>\n",
       "    <tr style=\"text-align: right;\">\n",
       "      <th></th>\n",
       "      <th></th>\n",
       "      <th>price</th>\n",
       "      <th>star</th>\n",
       "    </tr>\n",
       "    <tr>\n",
       "      <th>cat</th>\n",
       "      <th>type</th>\n",
       "      <th></th>\n",
       "      <th></th>\n",
       "    </tr>\n",
       "  </thead>\n",
       "  <tbody>\n",
       "    <tr>\n",
       "      <th>food</th>\n",
       "      <th>A</th>\n",
       "      <td>100.0</td>\n",
       "      <td>3.3</td>\n",
       "    </tr>\n",
       "    <tr>\n",
       "      <th rowspan=\"2\" valign=\"top\">snack</th>\n",
       "      <th>B</th>\n",
       "      <td>400.0</td>\n",
       "      <td>4.1</td>\n",
       "    </tr>\n",
       "    <tr>\n",
       "      <th>C</th>\n",
       "      <td>200.0</td>\n",
       "      <td>4.0</td>\n",
       "    </tr>\n",
       "  </tbody>\n",
       "</table>\n",
       "</div>"
      ],
      "text/plain": [
       "            price  star\n",
       "cat   type             \n",
       "food  A     100.0   3.3\n",
       "snack B     400.0   4.1\n",
       "      C     200.0   4.0"
      ]
     },
     "execution_count": 10,
     "metadata": {},
     "output_type": "execute_result"
    }
   ],
   "source": [
    "df.groupby([\"cat\", \"type\"]).mean()"
   ]
  },
  {
   "cell_type": "markdown",
   "id": "0ff7264c",
   "metadata": {},
   "source": [
    "상기와 같이 .groupby() 메서드 뒤에 연산 대상 변수를 지정하지 않은 경우 메서드 내부에서 언급한 변수를 제외한 나머지 모든 변수가 연산에 사용된다."
   ]
  },
  {
   "cell_type": "code",
   "execution_count": 12,
   "id": "28297b3a",
   "metadata": {},
   "outputs": [
    {
     "data": {
      "text/plain": [
       "cat    type\n",
       "food   A       2\n",
       "snack  B       2\n",
       "       C       1\n",
       "Name: price, dtype: int64"
      ]
     },
     "execution_count": 12,
     "metadata": {},
     "output_type": "execute_result"
    }
   ],
   "source": [
    "df.groupby([\"cat\", \"type\"])[\"price\"].count()"
   ]
  },
  {
   "cell_type": "markdown",
   "id": "4ede0597",
   "metadata": {},
   "source": [
    ".count() 메서드는 .groupby() 메서드 내부에 2개 이상의 기준 변수를 지정한 경우 인덱스는 .drop_duplicates() 메서드로 중복제거한 것과 같은 모양이며 각 인덱스별 등장 횟수를 확인할 수 있음. 즉, 고유한 조합이 데이터프레임에 몇 번 등장하는지 확인 가능."
   ]
  },
  {
   "cell_type": "markdown",
   "id": "ce474c4a",
   "metadata": {},
   "source": [
    "대상 변수 뒤에 사용하는 메서드의 경우 대부분 Pandas Series 객체의 메서드를 지원하며, 지원하지 않는 특수한 연산을 수행하고자 하는 경우는 .agg() 메서드와 lambda 함수 또는 사용자 정의 함수를 사용해야 함. 그리고 .agg() 메서드는 여러 연산을 한 번에 계산할 수 있도록 지원한다."
   ]
  },
  {
   "cell_type": "code",
   "execution_count": 14,
   "id": "14c365b2",
   "metadata": {},
   "outputs": [
    {
     "data": {
      "text/plain": [
       "cat\n",
       "food     100.000000\n",
       "snack    333.333333\n",
       "Name: price, dtype: float64"
      ]
     },
     "execution_count": 14,
     "metadata": {},
     "output_type": "execute_result"
    }
   ],
   "source": [
    "df.groupby(\"cat\")[\"price\"].agg(\"mean\")"
   ]
  },
  {
   "cell_type": "code",
   "execution_count": 15,
   "id": "47a6173d",
   "metadata": {
    "collapsed": true
   },
   "outputs": [
    {
     "data": {
      "text/html": [
       "<div>\n",
       "<style scoped>\n",
       "    .dataframe tbody tr th:only-of-type {\n",
       "        vertical-align: middle;\n",
       "    }\n",
       "\n",
       "    .dataframe tbody tr th {\n",
       "        vertical-align: top;\n",
       "    }\n",
       "\n",
       "    .dataframe thead th {\n",
       "        text-align: right;\n",
       "    }\n",
       "</style>\n",
       "<table border=\"1\" class=\"dataframe\">\n",
       "  <thead>\n",
       "    <tr style=\"text-align: right;\">\n",
       "      <th></th>\n",
       "      <th>mean</th>\n",
       "      <th>max</th>\n",
       "    </tr>\n",
       "    <tr>\n",
       "      <th>cat</th>\n",
       "      <th></th>\n",
       "      <th></th>\n",
       "    </tr>\n",
       "  </thead>\n",
       "  <tbody>\n",
       "    <tr>\n",
       "      <th>food</th>\n",
       "      <td>100.000000</td>\n",
       "      <td>100</td>\n",
       "    </tr>\n",
       "    <tr>\n",
       "      <th>snack</th>\n",
       "      <td>333.333333</td>\n",
       "      <td>500</td>\n",
       "    </tr>\n",
       "  </tbody>\n",
       "</table>\n",
       "</div>"
      ],
      "text/plain": [
       "             mean  max\n",
       "cat                   \n",
       "food   100.000000  100\n",
       "snack  333.333333  500"
      ]
     },
     "execution_count": 15,
     "metadata": {},
     "output_type": "execute_result"
    }
   ],
   "source": [
    "df.groupby(\"cat\")[\"price\"].agg([\"mean\", \"max\"])"
   ]
  },
  {
   "cell_type": "code",
   "execution_count": 16,
   "id": "3e72d56d",
   "metadata": {
    "collapsed": true
   },
   "outputs": [
    {
     "data": {
      "text/plain": [
       "cat\n",
       "food     100.00\n",
       "snack    333.33\n",
       "Name: price, dtype: float64"
      ]
     },
     "execution_count": 16,
     "metadata": {},
     "output_type": "execute_result"
    }
   ],
   "source": [
    "def round_mean(x): # 기준변수 기준으로 쪼개어진 대상변수(Series)가 입력으로 처리됨.\n",
    "    return round(x.mean(), 2)\n",
    "\n",
    "df.groupby(\"cat\")[\"price\"].agg(round_mean)"
   ]
  },
  {
   "cell_type": "code",
   "execution_count": 20,
   "id": "36439967",
   "metadata": {},
   "outputs": [],
   "source": [
    "# df.groupby(\"cat\")[\"price\"].agg([mean, max]) # 에러!!!"
   ]
  },
  {
   "cell_type": "code",
   "execution_count": 18,
   "id": "4263af61",
   "metadata": {},
   "outputs": [],
   "source": [
    "# df.groupby(\"cat\")[\"price\"].agg(\"round_mean\") # 에러!!!"
   ]
  },
  {
   "cell_type": "code",
   "execution_count": 21,
   "id": "d4f64207",
   "metadata": {
    "collapsed": true
   },
   "outputs": [
    {
     "data": {
      "text/html": [
       "<div>\n",
       "<style scoped>\n",
       "    .dataframe tbody tr th:only-of-type {\n",
       "        vertical-align: middle;\n",
       "    }\n",
       "\n",
       "    .dataframe tbody tr th {\n",
       "        vertical-align: top;\n",
       "    }\n",
       "\n",
       "    .dataframe thead th {\n",
       "        text-align: right;\n",
       "    }\n",
       "</style>\n",
       "<table border=\"1\" class=\"dataframe\">\n",
       "  <thead>\n",
       "    <tr style=\"text-align: right;\">\n",
       "      <th></th>\n",
       "      <th>mean</th>\n",
       "      <th>max</th>\n",
       "      <th>round_mean</th>\n",
       "    </tr>\n",
       "    <tr>\n",
       "      <th>cat</th>\n",
       "      <th></th>\n",
       "      <th></th>\n",
       "      <th></th>\n",
       "    </tr>\n",
       "  </thead>\n",
       "  <tbody>\n",
       "    <tr>\n",
       "      <th>food</th>\n",
       "      <td>100.000000</td>\n",
       "      <td>100</td>\n",
       "      <td>100.00</td>\n",
       "    </tr>\n",
       "    <tr>\n",
       "      <th>snack</th>\n",
       "      <td>333.333333</td>\n",
       "      <td>500</td>\n",
       "      <td>333.33</td>\n",
       "    </tr>\n",
       "  </tbody>\n",
       "</table>\n",
       "</div>"
      ],
      "text/plain": [
       "             mean  max  round_mean\n",
       "cat                               \n",
       "food   100.000000  100      100.00\n",
       "snack  333.333333  500      333.33"
      ]
     },
     "execution_count": 21,
     "metadata": {},
     "output_type": "execute_result"
    }
   ],
   "source": [
    "df.groupby(\"cat\")[\"price\"].agg([\"mean\", \"max\", round_mean]) # 굳굳."
   ]
  },
  {
   "cell_type": "markdown",
   "id": "3ec49299",
   "metadata": {},
   "source": [
    ".groupby() 메서드는 내부에 지정되는 기준변수를 기준으로 메서드 뒤에 기술하는 대상 변수를 쪼개어 처리함."
   ]
  },
  {
   "cell_type": "code",
   "execution_count": 22,
   "id": "90167d91",
   "metadata": {},
   "outputs": [
    {
     "data": {
      "text/plain": [
       "cat\n",
       "food     100.00\n",
       "snack    333.33\n",
       "Name: price, dtype: float64"
      ]
     },
     "execution_count": 22,
     "metadata": {},
     "output_type": "execute_result"
    }
   ],
   "source": [
    "df.groupby(\"cat\")[\"price\"].agg(lambda x: round(x.mean(), 2))"
   ]
  },
  {
   "cell_type": "markdown",
   "id": "267e831e",
   "metadata": {},
   "source": [
    "lambda 함수는 별도로 정의하지 않고 임시로 쓰는 일회성 함수. 한 줄 정도로 해결되는 간단한 일회성의 사용자 정의 함수가 필요할 때 주로 사용."
   ]
  },
  {
   "cell_type": "code",
   "execution_count": 24,
   "id": "0b14c28a",
   "metadata": {
    "collapsed": true
   },
   "outputs": [
    {
     "data": {
      "text/html": [
       "<div>\n",
       "<style scoped>\n",
       "    .dataframe tbody tr th:only-of-type {\n",
       "        vertical-align: middle;\n",
       "    }\n",
       "\n",
       "    .dataframe tbody tr th {\n",
       "        vertical-align: top;\n",
       "    }\n",
       "\n",
       "    .dataframe thead th {\n",
       "        text-align: right;\n",
       "    }\n",
       "</style>\n",
       "<table border=\"1\" class=\"dataframe\">\n",
       "  <thead>\n",
       "    <tr style=\"text-align: right;\">\n",
       "      <th></th>\n",
       "      <th>cat</th>\n",
       "      <th>price</th>\n",
       "    </tr>\n",
       "  </thead>\n",
       "  <tbody>\n",
       "    <tr>\n",
       "      <th>0</th>\n",
       "      <td>food</td>\n",
       "      <td>100.000000</td>\n",
       "    </tr>\n",
       "    <tr>\n",
       "      <th>1</th>\n",
       "      <td>snack</td>\n",
       "      <td>333.333333</td>\n",
       "    </tr>\n",
       "  </tbody>\n",
       "</table>\n",
       "</div>"
      ],
      "text/plain": [
       "     cat       price\n",
       "0   food  100.000000\n",
       "1  snack  333.333333"
      ]
     },
     "execution_count": 24,
     "metadata": {},
     "output_type": "execute_result"
    }
   ],
   "source": [
    "df.groupby(\"cat\")[\"price\"].mean().reset_index()"
   ]
  },
  {
   "cell_type": "code",
   "execution_count": 26,
   "id": "bfa3b86e",
   "metadata": {},
   "outputs": [
    {
     "data": {
      "text/html": [
       "<div>\n",
       "<style scoped>\n",
       "    .dataframe tbody tr th:only-of-type {\n",
       "        vertical-align: middle;\n",
       "    }\n",
       "\n",
       "    .dataframe tbody tr th {\n",
       "        vertical-align: top;\n",
       "    }\n",
       "\n",
       "    .dataframe thead th {\n",
       "        text-align: right;\n",
       "    }\n",
       "</style>\n",
       "<table border=\"1\" class=\"dataframe\">\n",
       "  <thead>\n",
       "    <tr style=\"text-align: right;\">\n",
       "      <th></th>\n",
       "      <th>cat</th>\n",
       "      <th>type</th>\n",
       "      <th>price</th>\n",
       "      <th>star</th>\n",
       "    </tr>\n",
       "  </thead>\n",
       "  <tbody>\n",
       "    <tr>\n",
       "      <th>0</th>\n",
       "      <td>food</td>\n",
       "      <td>A</td>\n",
       "      <td>100.0</td>\n",
       "      <td>3.3</td>\n",
       "    </tr>\n",
       "    <tr>\n",
       "      <th>1</th>\n",
       "      <td>snack</td>\n",
       "      <td>B</td>\n",
       "      <td>400.0</td>\n",
       "      <td>4.1</td>\n",
       "    </tr>\n",
       "    <tr>\n",
       "      <th>2</th>\n",
       "      <td>snack</td>\n",
       "      <td>C</td>\n",
       "      <td>200.0</td>\n",
       "      <td>4.0</td>\n",
       "    </tr>\n",
       "  </tbody>\n",
       "</table>\n",
       "</div>"
      ],
      "text/plain": [
       "     cat type  price  star\n",
       "0   food    A  100.0   3.3\n",
       "1  snack    B  400.0   4.1\n",
       "2  snack    C  200.0   4.0"
      ]
     },
     "execution_count": 26,
     "metadata": {},
     "output_type": "execute_result"
    }
   ],
   "source": [
    "df.groupby([\"cat\", \"type\"])[[\"price\", \"star\"]].mean().reset_index()"
   ]
  },
  {
   "cell_type": "markdown",
   "id": "0ade760e",
   "metadata": {},
   "source": [
    "Series 또는 인덱스 기반 연산이 불편하다면 .reset_index() 메서드를 활용하여 인덱스를 초기화 하면서 Series를 DataFrame으로 바꾸거나 인덱스를 별도의 변수로 배치시킬 수 있다."
   ]
  },
  {
   "cell_type": "code",
   "execution_count": null,
   "id": "cf864d92",
   "metadata": {},
   "outputs": [],
   "source": []
  }
 ],
 "metadata": {
  "kernelspec": {
   "display_name": "Python 3 (ipykernel)",
   "language": "python",
   "name": "python3"
  },
  "language_info": {
   "codemirror_mode": {
    "name": "ipython",
    "version": 3
   },
   "file_extension": ".py",
   "mimetype": "text/x-python",
   "name": "python",
   "nbconvert_exporter": "python",
   "pygments_lexer": "ipython3",
   "version": "3.9.12"
  }
 },
 "nbformat": 4,
 "nbformat_minor": 5
}
