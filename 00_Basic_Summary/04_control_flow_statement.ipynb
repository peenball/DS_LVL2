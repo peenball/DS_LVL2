{
 "cells": [
  {
   "cell_type": "markdown",
   "id": "0964c6f9",
   "metadata": {},
   "source": [
    "# 제어문"
   ]
  },
  {
   "cell_type": "markdown",
   "id": "6292b562",
   "metadata": {},
   "source": [
    "* 조건문: if, if \\~ else 등\n",
    "* 반복문: for, whlie  \n",
    "  ※ for는 반복의 횟수가 지정되어 있음  \n",
    "  ※ while은 반복을 멈추는 조건이 지정되어 있음\n"
   ]
  },
  {
   "cell_type": "markdown",
   "id": "a4e64750",
   "metadata": {},
   "source": [
    "### 조건문 - if\n",
    "조건식의 참(True), 거짓(False)에 따라 특정 코드 실행여부를 결정\n",
    "  \n",
    "* 생성 및 동작원리  \n",
    "\"if\" 로 시작하며 \"if\" 다음에는 반드시 한 칸 띄어쓴다. 그리고 조건식을 배치해야하며 조건식 실행 결과는 반드시 True 또는 False여야 한다. 결과는 복수의 원소나 객체를 허용하지 않으며 True 또는 False의 단일값이 반환되어야 한다. 조건식 뒤에는 콜론(:)을 써서 마무리하고 조건식이 True일 때 실행되는 코드는 한 수준(4칸 띄어쓰기 또는 1Tab)이상 들여쓰기를 해야한다.  \n",
    "  \n",
    "  \n",
    "* 확장  \n",
    "두 개 이상의 분기를 위해서는 else, elif를 사용할 수 있으며 중첩 if문도 가능하다. elif의 경우 뒤에 추가 조건식을 쓸 수 있으며 연쇄적인 조건식을 생성할 때 사용할 수 있다."
   ]
  },
  {
   "cell_type": "code",
   "execution_count": 6,
   "id": "7cdfd77b",
   "metadata": {},
   "outputs": [
    {
     "data": {
      "text/plain": [
       "101"
      ]
     },
     "execution_count": 6,
     "metadata": {},
     "output_type": "execute_result"
    }
   ],
   "source": [
    "ee = 1\n",
    "if True:\n",
    "    ee = ee + 100\n",
    "    \n",
    "ee"
   ]
  },
  {
   "cell_type": "code",
   "execution_count": 6,
   "id": "cffdd1d7",
   "metadata": {},
   "outputs": [
    {
     "data": {
      "text/plain": [
       "1"
      ]
     },
     "execution_count": 6,
     "metadata": {},
     "output_type": "execute_result"
    }
   ],
   "source": [
    "hh = 1\n",
    "if False:\n",
    "    hh = hh + 100\n",
    "    \n",
    "hh"
   ]
  },
  {
   "cell_type": "code",
   "execution_count": 9,
   "id": "6f9befa1",
   "metadata": {},
   "outputs": [
    {
     "name": "stdout",
     "output_type": "stream",
     "text": [
      "True\n",
      "90\n"
     ]
    }
   ],
   "source": [
    "val_1 = 30\n",
    "print(val_1 > 15)\n",
    "\n",
    "if val_1 > 15: # True\n",
    "    print(val_1 * 3)\n",
    "    \n",
    "if val_1 < 15: # False -> 실행 안됨.\n",
    "    print(val_1 * 30)"
   ]
  },
  {
   "cell_type": "code",
   "execution_count": 10,
   "id": "777090b2",
   "metadata": {},
   "outputs": [
    {
     "name": "stdout",
     "output_type": "stream",
     "text": [
      "LE100\n"
     ]
    }
   ],
   "source": [
    "val_2 = 50\n",
    "\n",
    "if val_2 > 100: # False --> else에 속한 코드가 실행됨.\n",
    "    print(\"GT100\") # (GT)Greater Than\n",
    "else: \n",
    "    print(\"LE100\") # (LE)Less than Equal"
   ]
  },
  {
   "cell_type": "code",
   "execution_count": 11,
   "id": "6e8459b2",
   "metadata": {},
   "outputs": [
    {
     "name": "stdout",
     "output_type": "stream",
     "text": [
      "GE50\n"
     ]
    }
   ],
   "source": [
    "val_3 = 50\n",
    "\n",
    "if val_3 > 100: # False --> else에 속한 코드가 실행됨.\n",
    "    print(\"GT100\") # (GT)Greater Than\n",
    "elif val_3 >= 50: \n",
    "    print(\"GE50\") # (GE)Greater than Equal\n",
    "else: \n",
    "    print(\"LT50\")"
   ]
  },
  {
   "cell_type": "markdown",
   "id": "265bd2c2",
   "metadata": {},
   "source": [
    "### 반복문 - for\n",
    "매우 유사한 코드의 단순 나열 대신 일부 변경되는 부분을 별도의 객체로 처리하여 특정 코드를 반복 수행하는 조건문.\n",
    "  \n",
    "* 생성 및 동작원리  \n",
    "\"for\"로 시작하며 \"for\" 뒤에 반드시 한 칸 띄어써야 한다. 이어서 반복문 내부에서 사용할 객체를 명시하는데 해당 객체는 다른 코드에서 사용하는 객체명과 다른 객체명으로 지정하는 것이 좋다. 다음로 \"in\"을 써주며 \"in\" 좌우로 반드시 한 칸 띄어써야 하고 \"in\" 뒤에는 반복문이 수행되면서 사용되는 원소 또는 객체를 명시한다. 해당 원소 또는 객체의 원소는 반복문이 실행되며 차례대로 \"in\" 앞에 지정한 객체에 할당된 이후 반복문에 속하는 코드와 함께 사용된다.  \n",
    "반복문이 실행될 때 동작하는 코드는 if 조건문이나 사용자 정의 함수와 같이 1수준 들여쓰기를 해야한다.  \n",
    "반복문은 \"in\" 뒤에 명시된 원소 또는 객체의 원소 길이 만큼 반복을 수행한다.\n",
    "\n",
    "  \n",
    "* 확장  \n",
    "반복문 내부에 조건문 또는 반복문을 추가 배치할 수 있으며 반복문 내부에 반복문이 위치한 코드를 \"중첩 반복문\" 또는 \"반복문이 중첩되었다.\"고 한다. 단, 반복문을 중첩하는 경우 \"for\"와 \"in\" 사이에 선언하는 객체명이 서로 겹치지 않게 한다.  \n",
    "  \n",
    "* 기타\n",
    "\"for\"와 \"in\" 사이에 위치한 객체명의 경우 숫자를 뜻하는 n, 정수를 뜻하는 i 등 한 글자를 많이 사용하며 객체명 명명의 큰 제약은 없으나 파이썬의 경우 다른 언어와 다르게 특수문자 한 글자 또한 객체로 쓸 수 있어 간혹 언더바를 반복문에 활용하는 사람도 있으나 주의해야 한다."
   ]
  },
  {
   "cell_type": "code",
   "execution_count": 13,
   "id": "1bf9cf4c",
   "metadata": {},
   "outputs": [],
   "source": [
    "range(3) # 내부에 0, 1, 2가 들어있음"
   ]
  },
  {
   "cell_type": "code",
   "execution_count": null,
   "id": "909e4f6b",
   "metadata": {},
   "outputs": [],
   "source": [
    "range(2, 5) # 내부에 2, 3, 4가 들어있음"
   ]
  },
  {
   "cell_type": "code",
   "execution_count": null,
   "id": "1b9218d4",
   "metadata": {},
   "outputs": [],
   "source": [
    "range(0, 5, 2) # 시작: 0, 끝: 5-1, 증분: 2 --> 내부에 0, 2, 4가 들어있음"
   ]
  },
  {
   "cell_type": "code",
   "execution_count": 17,
   "id": "f2d7814b",
   "metadata": {},
   "outputs": [],
   "source": [
    "# help(range)"
   ]
  },
  {
   "cell_type": "code",
   "execution_count": 18,
   "id": "ddcd0697",
   "metadata": {},
   "outputs": [
    {
     "name": "stdout",
     "output_type": "stream",
     "text": [
      "0\n",
      "1\n",
      "2\n"
     ]
    }
   ],
   "source": [
    "for n in range(3):\n",
    "    print(n)"
   ]
  },
  {
   "cell_type": "code",
   "execution_count": null,
   "id": "342d07c0",
   "metadata": {},
   "outputs": [],
   "source": [
    "for n in [2, 4, 6]:\n",
    "    print(n)"
   ]
  },
  {
   "cell_type": "code",
   "execution_count": 19,
   "id": "0fff1942",
   "metadata": {},
   "outputs": [
    {
     "name": "stdout",
     "output_type": "stream",
     "text": [
      "2\n",
      "4\n",
      "6\n"
     ]
    }
   ],
   "source": [
    "for _ in [2, 4, 6]: # \"_\"를 전혀 쓰지 않을때 이런식으로 쓰기도 한다.\n",
    "    print(_)"
   ]
  },
  {
   "cell_type": "code",
   "execution_count": 20,
   "id": "586b475d",
   "metadata": {},
   "outputs": [
    {
     "name": "stdout",
     "output_type": "stream",
     "text": [
      "0\n",
      "100\n",
      "200\n",
      "300\n",
      "1\n",
      "100\n",
      "200\n",
      "300\n",
      "2\n",
      "100\n",
      "200\n",
      "300\n"
     ]
    }
   ],
   "source": [
    "for L1 in [0, 1, 2]:\n",
    "    print(L1)\n",
    "    for L2 in [100, 200, 300]:\n",
    "        print(L2)"
   ]
  },
  {
   "cell_type": "code",
   "execution_count": 23,
   "id": "90cf7704",
   "metadata": {},
   "outputs": [
    {
     "name": "stdout",
     "output_type": "stream",
     "text": [
      "100\n",
      "200\n",
      "300\n",
      "300 @\n",
      "100\n",
      "200\n",
      "300\n",
      "300 @\n",
      "100\n",
      "200\n",
      "300\n",
      "300 @\n"
     ]
    }
   ],
   "source": [
    "for L1 in [0, 1, 2]:\n",
    "    for L1 in [100, 200, 300]:\n",
    "        print(L1)\n",
    "        \n",
    "    print(L1, \"@\") # 0, 1, 2가 아니라 하위 반복문에서 덮어쓴 L1값이 나옴."
   ]
  },
  {
   "cell_type": "code",
   "execution_count": null,
   "id": "1e62a157",
   "metadata": {},
   "outputs": [],
   "source": []
  }
 ],
 "metadata": {
  "kernelspec": {
   "display_name": "Python 3 (ipykernel)",
   "language": "python",
   "name": "python3"
  },
  "language_info": {
   "codemirror_mode": {
    "name": "ipython",
    "version": 3
   },
   "file_extension": ".py",
   "mimetype": "text/x-python",
   "name": "python",
   "nbconvert_exporter": "python",
   "pygments_lexer": "ipython3",
   "version": "3.9.13"
  }
 },
 "nbformat": 4,
 "nbformat_minor": 5
}
