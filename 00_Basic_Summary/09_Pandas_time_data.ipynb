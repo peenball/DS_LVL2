{
 "cells": [
  {
   "cell_type": "code",
   "execution_count": 1,
   "id": "c4767dea",
   "metadata": {},
   "outputs": [],
   "source": [
    "import pandas as pd"
   ]
  },
  {
   "cell_type": "code",
   "execution_count": 2,
   "id": "dcfe08f5",
   "metadata": {},
   "outputs": [
    {
     "data": {
      "text/plain": [
       "0    2022-10-29\n",
       "1    2022-10-30\n",
       "dtype: object"
      ]
     },
     "execution_count": 2,
     "metadata": {},
     "output_type": "execute_result"
    }
   ],
   "source": [
    "ser1 = pd.Series([\"2022-10-29\", \"2022-10-30\"])\n",
    "ser1"
   ]
  },
  {
   "cell_type": "markdown",
   "id": "5fb95ea5",
   "metadata": {},
   "source": [
    "상기 데이터는 표준 시간형식으로 보이나 데이터 형식이 \"object\"로 문자열로 취급됨"
   ]
  },
  {
   "cell_type": "code",
   "execution_count": 3,
   "id": "b78cb483",
   "metadata": {},
   "outputs": [
    {
     "data": {
      "text/plain": [
       "0    2022-10-29@\n",
       "1    2022-10-30@\n",
       "dtype: object"
      ]
     },
     "execution_count": 3,
     "metadata": {},
     "output_type": "execute_result"
    }
   ],
   "source": [
    "ser1 + \"@\""
   ]
  },
  {
   "cell_type": "markdown",
   "id": "f0b28ac8",
   "metadata": {},
   "source": [
    "Pandas에서 날짜 형식으로의 변환을 지원하는 함수는 to_datetime() 이다."
   ]
  },
  {
   "cell_type": "code",
   "execution_count": 4,
   "id": "506b60c8",
   "metadata": {},
   "outputs": [
    {
     "data": {
      "text/plain": [
       "0   2022-10-29\n",
       "1   2022-10-30\n",
       "dtype: datetime64[ns]"
      ]
     },
     "execution_count": 4,
     "metadata": {},
     "output_type": "execute_result"
    }
   ],
   "source": [
    "ser1_date = pd.to_datetime(ser1)\n",
    "ser1_date"
   ]
  },
  {
   "cell_type": "markdown",
   "id": "112f7143",
   "metadata": {},
   "source": [
    "to_datetime() 함수는 표준 형식(YYYY:mm:dd HH:MM:SS) 또는 그와 유사한 형식이 입력될 경우 시간 데이터 형식으로 데이터를 바꿔줌. 그리고 시간 데이터로 구성된 Pandas Series 객체는 .dt 접근자(accessor)를 사용할 수 있으며 해당 접근자에는 시간 데이터를 다루는 다양한 어트리뷰트 또는 메서드가 내장되어 있다."
   ]
  },
  {
   "cell_type": "code",
   "execution_count": 5,
   "id": "f99cc8fc",
   "metadata": {},
   "outputs": [
    {
     "data": {
      "text/plain": [
       "0    2022\n",
       "1    2022\n",
       "dtype: int64"
      ]
     },
     "execution_count": 5,
     "metadata": {},
     "output_type": "execute_result"
    }
   ],
   "source": [
    "ser1_date.dt.year"
   ]
  },
  {
   "cell_type": "code",
   "execution_count": 6,
   "id": "3696f7b2",
   "metadata": {},
   "outputs": [
    {
     "data": {
      "text/plain": [
       "0    10\n",
       "1    10\n",
       "dtype: int64"
      ]
     },
     "execution_count": 6,
     "metadata": {},
     "output_type": "execute_result"
    }
   ],
   "source": [
    "ser1_date.dt.month"
   ]
  },
  {
   "cell_type": "code",
   "execution_count": 7,
   "id": "6a8bf453",
   "metadata": {},
   "outputs": [
    {
     "data": {
      "text/plain": [
       "0    29\n",
       "1    30\n",
       "dtype: int64"
      ]
     },
     "execution_count": 7,
     "metadata": {},
     "output_type": "execute_result"
    }
   ],
   "source": [
    "ser1_date.dt.day"
   ]
  },
  {
   "cell_type": "code",
   "execution_count": 8,
   "id": "5d86cdc0",
   "metadata": {},
   "outputs": [
    {
     "data": {
      "text/plain": [
       "0    0\n",
       "1    0\n",
       "dtype: int64"
      ]
     },
     "execution_count": 8,
     "metadata": {},
     "output_type": "execute_result"
    }
   ],
   "source": [
    "ser1_date.dt.hour"
   ]
  },
  {
   "cell_type": "code",
   "execution_count": 9,
   "id": "29c9b012",
   "metadata": {},
   "outputs": [
    {
     "data": {
      "text/plain": [
       "0    0\n",
       "1    0\n",
       "dtype: int64"
      ]
     },
     "execution_count": 9,
     "metadata": {},
     "output_type": "execute_result"
    }
   ],
   "source": [
    "ser1_date.dt.minute"
   ]
  },
  {
   "cell_type": "code",
   "execution_count": 10,
   "id": "72537708",
   "metadata": {},
   "outputs": [
    {
     "data": {
      "text/plain": [
       "0    0\n",
       "1    0\n",
       "dtype: int64"
      ]
     },
     "execution_count": 10,
     "metadata": {},
     "output_type": "execute_result"
    }
   ],
   "source": [
    "ser1_date.dt.second"
   ]
  },
  {
   "cell_type": "code",
   "execution_count": 11,
   "id": "c9fdc3ab",
   "metadata": {},
   "outputs": [
    {
     "data": {
      "text/plain": [
       "0    5\n",
       "1    6\n",
       "dtype: int64"
      ]
     },
     "execution_count": 11,
     "metadata": {},
     "output_type": "execute_result"
    }
   ],
   "source": [
    "ser1_date.dt.weekday # 0이 월요일, 6이 일요일"
   ]
  },
  {
   "cell_type": "code",
   "execution_count": 12,
   "id": "3e00b1ed",
   "metadata": {},
   "outputs": [
    {
     "data": {
      "text/plain": [
       "0    2022-10\n",
       "1    2022-10\n",
       "dtype: object"
      ]
     },
     "execution_count": 12,
     "metadata": {},
     "output_type": "execute_result"
    }
   ],
   "source": [
    "ser1_date.dt.strftime(\"%Y-%m\")"
   ]
  },
  {
   "cell_type": "code",
   "execution_count": 13,
   "id": "01e99240",
   "metadata": {},
   "outputs": [
    {
     "data": {
      "text/plain": [
       "0    2022년 10월\n",
       "1    2022년 10월\n",
       "dtype: object"
      ]
     },
     "execution_count": 13,
     "metadata": {},
     "output_type": "execute_result"
    }
   ],
   "source": [
    "ser1_date.dt.strftime(\"%Y년 %m월\")"
   ]
  },
  {
   "cell_type": "code",
   "execution_count": 14,
   "id": "350254ae",
   "metadata": {},
   "outputs": [
    {
     "data": {
      "text/plain": [
       "0    2022년 10월 29일 15시 24분 30초\n",
       "1    2022년 10월 29일 17시 30분 00초\n",
       "dtype: object"
      ]
     },
     "execution_count": 14,
     "metadata": {},
     "output_type": "execute_result"
    }
   ],
   "source": [
    "ser2 = pd.Series([\"2022년 10월 29일 15시 24분 30초\",\n",
    "                  \"2022년 10월 29일 17시 30분 00초\"])\n",
    "ser2"
   ]
  },
  {
   "cell_type": "code",
   "execution_count": 15,
   "id": "5405b2fc",
   "metadata": {},
   "outputs": [
    {
     "data": {
      "text/plain": [
       "0   2022-10-29 15:24:30\n",
       "1   2022-10-29 17:30:00\n",
       "dtype: datetime64[ns]"
      ]
     },
     "execution_count": 15,
     "metadata": {},
     "output_type": "execute_result"
    }
   ],
   "source": [
    "ser2_dt = pd.to_datetime(ser2, \n",
    "                         format = \"%Y년 %m월 %d일 %H시 %M분 %S초\")\n",
    "ser2_dt"
   ]
  },
  {
   "cell_type": "code",
   "execution_count": 16,
   "id": "cd96d5c6",
   "metadata": {},
   "outputs": [
    {
     "data": {
      "text/plain": [
       "0      NaN\n",
       "1    125.5\n",
       "dtype: float64"
      ]
     },
     "execution_count": 16,
     "metadata": {},
     "output_type": "execute_result"
    }
   ],
   "source": [
    "ser2_dt.diff().dt.seconds / 60"
   ]
  },
  {
   "cell_type": "code",
   "execution_count": 29,
   "id": "46c3b9da",
   "metadata": {},
   "outputs": [
    {
     "data": {
      "text/plain": [
       "0   1970-01-01 00:00:00.000040001\n",
       "1   1970-01-01 00:00:00.000050000\n",
       "2   1970-01-01 00:00:00.000060000\n",
       "dtype: datetime64[ns]"
      ]
     },
     "execution_count": 29,
     "metadata": {},
     "output_type": "execute_result"
    }
   ],
   "source": [
    "ser3 = pd.Series([40001, 50000, 60000])\n",
    "ser3_date1 = pd.to_datetime(ser3)\n",
    "ser3_date1"
   ]
  },
  {
   "cell_type": "code",
   "execution_count": 30,
   "id": "44dcd6a3",
   "metadata": {},
   "outputs": [
    {
     "data": {
      "text/plain": [
       "0   1900-01-01 00:00:00.000040001\n",
       "1   1900-01-01 00:00:00.000050000\n",
       "2   1900-01-01 00:00:00.000060000\n",
       "dtype: datetime64[ns]"
      ]
     },
     "execution_count": 30,
     "metadata": {},
     "output_type": "execute_result"
    }
   ],
   "source": [
    "ser3_date2 = pd.to_datetime(ser3, origin = \"1900-01-01\")\n",
    "ser3_date2"
   ]
  },
  {
   "cell_type": "code",
   "execution_count": 31,
   "id": "b37b6604",
   "metadata": {},
   "outputs": [
    {
     "data": {
      "text/plain": [
       "0   2009-07-09\n",
       "1   2036-11-23\n",
       "2   2064-04-10\n",
       "dtype: datetime64[ns]"
      ]
     },
     "execution_count": 31,
     "metadata": {},
     "output_type": "execute_result"
    }
   ],
   "source": [
    "ser3_date3 = pd.to_datetime(ser3, origin = \"1900-01-01\", unit = \"D\")\n",
    "ser3_date3"
   ]
  },
  {
   "cell_type": "code",
   "execution_count": null,
   "id": "5f20e05a",
   "metadata": {},
   "outputs": [],
   "source": []
  },
  {
   "cell_type": "code",
   "execution_count": null,
   "id": "eb6032d7",
   "metadata": {},
   "outputs": [],
   "source": []
  }
 ],
 "metadata": {
  "kernelspec": {
   "display_name": "Python 3 (ipykernel)",
   "language": "python",
   "name": "python3"
  },
  "language_info": {
   "codemirror_mode": {
    "name": "ipython",
    "version": 3
   },
   "file_extension": ".py",
   "mimetype": "text/x-python",
   "name": "python",
   "nbconvert_exporter": "python",
   "pygments_lexer": "ipython3",
   "version": "3.9.12"
  }
 },
 "nbformat": 4,
 "nbformat_minor": 5
}
