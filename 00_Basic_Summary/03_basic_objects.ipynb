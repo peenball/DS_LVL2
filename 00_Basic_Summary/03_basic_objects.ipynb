{
 "cells": [
  {
   "cell_type": "markdown",
   "id": "31a0d8e1",
   "metadata": {},
   "source": [
    "### 파이썬 기본 객체\n",
    "* 리스트(list)\n",
    "* 튜플(tuple)\n",
    "* 딕셔너리(dictionary)\n",
    "* 집합(set)"
   ]
  },
  {
   "cell_type": "markdown",
   "id": "36f4449f",
   "metadata": {},
   "source": [
    "#### 리스트(list)\n",
    "파이썬에서 가장 기본이 되는 객체이며 보통 2개 이상의 원소를 묶을 때 리스트를 사용함. 향후 딕셔너리의 value, NumPy의 어레이(Array), Pandas 객체 생성 및 색인에 활용됨.\n",
    "\n",
    "* 생성  \n",
    "대괄호를 사용하여 생성하며 그 원소는 쉼표로 구분함. 리스트의 원소는 숫자, 문자 뿐만 아니라 리스트 또는 기타 객체도 될 수 있음.\n",
    "  \n",
    "  \n",
    "* 색인  \n",
    "인덱스는 0부터 시작하며 리스트 객체 뒤에 대괄호를 사용하여 내부의 원소에 접근할 수 있음. 문자열을 다루는 것 처럼 단일 또는 연속된 인덱스에 대응하는 원소를 추출 가능하나 이산수열 인덱스에 대응하는 원소는 한 번에 추출이 불가하고 이 경우 반복문과 조건문을 사용해야함.  \n",
    "색인에 사용하는 인덱스는 정수만 가능하며 음수의 경우 마지막 원소를 기준으로 상대적으로 얼마나 뒤에 위치하는지를 의미함.  \n",
    "\n",
    "\n",
    "* 조작  \n",
    "원소 추가/제거/치환 등 다양한 작업이 가능. 복수 원소의 일괄연산은 불가하며 필요시 반복문 등 제어문을 활용해야함."
   ]
  },
  {
   "cell_type": "code",
   "execution_count": 14,
   "id": "ea82c94c",
   "metadata": {},
   "outputs": [
    {
     "data": {
      "text/plain": [
       "[1, 2, 3]"
      ]
     },
     "execution_count": 14,
     "metadata": {},
     "output_type": "execute_result"
    }
   ],
   "source": [
    "[1, 2, 3]"
   ]
  },
  {
   "cell_type": "code",
   "execution_count": 15,
   "id": "90baac5b",
   "metadata": {},
   "outputs": [
    {
     "data": {
      "text/plain": [
       "[100, 200, 300]"
      ]
     },
     "execution_count": 15,
     "metadata": {},
     "output_type": "execute_result"
    }
   ],
   "source": [
    "aa = [100, 200, 300]\n",
    "aa"
   ]
  },
  {
   "cell_type": "code",
   "execution_count": 16,
   "id": "4489a2d3",
   "metadata": {},
   "outputs": [
    {
     "data": {
      "text/plain": [
       "(100, 200, 300, 300, [100, 200], [100, 200], [200, 300])"
      ]
     },
     "execution_count": 16,
     "metadata": {},
     "output_type": "execute_result"
    }
   ],
   "source": [
    "# 연속범위 표기시 왼쪽 생략은 0, 오른쪽 생략은 마지막을 의미\n",
    "# 연속범위 표기에서 명시된 오른쪽 숫자 -1 의 인덱스 까지 해당\n",
    "aa[0], aa[1], aa[2], aa[-1], aa[0:2], aa[:2], aa[-2:]"
   ]
  },
  {
   "cell_type": "code",
   "execution_count": 17,
   "id": "1a7ce5c9",
   "metadata": {},
   "outputs": [
    {
     "data": {
      "text/plain": [
       "[-1, 200, 300]"
      ]
     },
     "execution_count": 17,
     "metadata": {},
     "output_type": "execute_result"
    }
   ],
   "source": [
    "aa[0] = -1 # 첫 번째 원소를 -1로 치환\n",
    "aa"
   ]
  },
  {
   "cell_type": "code",
   "execution_count": 18,
   "id": "40216deb",
   "metadata": {},
   "outputs": [
    {
     "data": {
      "text/plain": [
       "[-1, 700, 300]"
      ]
     },
     "execution_count": 18,
     "metadata": {},
     "output_type": "execute_result"
    }
   ],
   "source": [
    "# 두 번째 원소를 꺼내 500을 더한 후 두 번째 위치에 할당(치환)\n",
    "aa[1] = aa[1] + 500 \n",
    "aa"
   ]
  },
  {
   "cell_type": "markdown",
   "id": "c1424991",
   "metadata": {},
   "source": [
    "dir(aa)  \n",
    "> 'append', 'clear', 'copy', 'count', 'extend', 'index', 'insert', 'pop', 'remove', 'reverse', 'sort'"
   ]
  },
  {
   "cell_type": "code",
   "execution_count": 19,
   "id": "e121d7c7",
   "metadata": {},
   "outputs": [
    {
     "data": {
      "text/plain": [
       "[-1, 700]"
      ]
     },
     "execution_count": 19,
     "metadata": {},
     "output_type": "execute_result"
    }
   ],
   "source": [
    "aa.remove(300) # 특정 원소 제거\n",
    "aa"
   ]
  },
  {
   "cell_type": "code",
   "execution_count": 22,
   "id": "88301981",
   "metadata": {},
   "outputs": [],
   "source": [
    "max(aa)"
   ]
  },
  {
   "cell_type": "code",
   "execution_count": 21,
   "id": "f8483648",
   "metadata": {},
   "outputs": [
    {
     "data": {
      "text/plain": [
       "[-1]"
      ]
     },
     "execution_count": 21,
     "metadata": {},
     "output_type": "execute_result"
    }
   ],
   "source": [
    "aa.remove(max(aa)) # 특정 원소 제거\n",
    "aa"
   ]
  },
  {
   "cell_type": "markdown",
   "id": "97093bf0",
   "metadata": {},
   "source": [
    "리스트의 여러 메서드는 연산결과를 객체에 재할당 하는 방식으로 작성하지 않음. (ex. .remove(), .sort() 등)"
   ]
  },
  {
   "cell_type": "code",
   "execution_count": 28,
   "id": "a1fcc3dc",
   "metadata": {},
   "outputs": [],
   "source": [
    "bb = [200, 400]\n",
    "bb.append(300)\n",
    "bb.append([300])\n",
    "bb"
   ]
  },
  {
   "cell_type": "code",
   "execution_count": 27,
   "id": "f4baeb22",
   "metadata": {},
   "outputs": [
    {
     "data": {
      "text/plain": [
       "[300, 500, 300]"
      ]
     },
     "execution_count": 27,
     "metadata": {},
     "output_type": "execute_result"
    }
   ],
   "source": [
    "cc = [300, 500]\n",
    "# cc.extend(300) # error!\n",
    "cc.extend([300])\n",
    "cc"
   ]
  },
  {
   "cell_type": "code",
   "execution_count": 29,
   "id": "eaca021f",
   "metadata": {},
   "outputs": [
    {
     "data": {
      "text/plain": [
       "[888, 999, 111, 222]"
      ]
     },
     "execution_count": 29,
     "metadata": {},
     "output_type": "execute_result"
    }
   ],
   "source": [
    "[888, 999] + [111, 222]"
   ]
  },
  {
   "cell_type": "code",
   "execution_count": 30,
   "id": "3da70875",
   "metadata": {},
   "outputs": [
    {
     "data": {
      "text/plain": [
       "[888, 999, 888, 999]"
      ]
     },
     "execution_count": 30,
     "metadata": {},
     "output_type": "execute_result"
    }
   ],
   "source": [
    "[888, 999] * 2"
   ]
  },
  {
   "cell_type": "markdown",
   "id": "0cf215b1",
   "metadata": {},
   "source": [
    "#### 튜플(tuple)\n",
    "내부 원소를 수정할 수 없기 때문에 매우 중요한 정보를 취급하는데 주로 사용됨. 직접 튜플을 생성하는 일은 잘 없으며 주로 객체의 shape, 통계 검정 결과에서 볼 수 있음.\n",
    "\n",
    "* 생성  \n",
    "소괄호를 사용하여 생성하며 리스트와 비슷하나 한 번 생성한 튜플 객체의 원소를 수정할 수 없음. 단, 튜플의 원소가 튜플이 아닌 객체인 경우 해당 객체의 원소는 수정할 수 있음.  \n",
    "원소가 하나인 튜플을 생성할 경우 원소 뒤에 쉼표를 붙이지 않으면 소괄호를 수학 연산의 우선순위를 지정하는 소괄호로 인식하여 올바르게 튜플이 생성되지 않음.  \n",
    "  \n",
    "  \n",
    "* 색인  \n",
    "리스트와 같음  \n",
    "  \n",
    "  \n",
    "* 조작\n",
    "조작이 필요한 경우 값 연산 이후 해당 값을 기준으로 새로운 튜플을 만듦"
   ]
  },
  {
   "cell_type": "code",
   "execution_count": null,
   "id": "1715e06c",
   "metadata": {},
   "outputs": [],
   "source": [
    "(10, 20, 30)"
   ]
  },
  {
   "cell_type": "code",
   "execution_count": null,
   "id": "fc1fac1f",
   "metadata": {},
   "outputs": [],
   "source": [
    "(30,)"
   ]
  },
  {
   "cell_type": "code",
   "execution_count": null,
   "id": "d00e44a5",
   "metadata": {},
   "outputs": [],
   "source": [
    "tu = (10, 20, 30)\n",
    "# tu[1] = 999 # Error!"
   ]
  },
  {
   "cell_type": "markdown",
   "id": "ecc3e4c0",
   "metadata": {},
   "source": [
    "#### 딕셔너리(dictionary)\n",
    "중괄호를 사용하여 생성하며 키와 값의 쌍으로 구성됨. 하나의 키에 하나의 값이 할당되나 그 값은 원소 또는 객체가 될 수 있다. 향후 Pandas 객체의 생성과 조작에 활용됨.\n",
    "  \n",
    "* 생성  \n",
    "키는 따옴표를 사용한 문자로 지정하며 그 다음에 콜론을 작성하고 콜론 다음에는 값(또는 객체)를 선언함. 그리고 각 키는 쉼표로 구분함  \n",
    "  \n",
    "* 색인\n",
    "한번에 특정 키의 특정 원소에 접근할 수 없으며 어떤 원소에 접근하기 위해서는 반드시 해당 원소와 연결되어있는 키를 통해야 한다.  \n",
    "  \n",
    "* 조작\n",
    "키를 추가하거나 삭제할 수 있으며 키에 연결된 값의 경우 해당 값 또는 객체의 문법을 따름."
   ]
  },
  {
   "cell_type": "code",
   "execution_count": 1,
   "id": "1306c4a7",
   "metadata": {},
   "outputs": [
    {
     "data": {
      "text/plain": [
       "{'key1': [333, 444, 555], 'key2': (100, 200)}"
      ]
     },
     "execution_count": 1,
     "metadata": {},
     "output_type": "execute_result"
    }
   ],
   "source": [
    "dic_1 = {\"key1\": [333, 444, 555],\n",
    "         \"key2\": (100, 200)}\n",
    "dic_1"
   ]
  },
  {
   "cell_type": "code",
   "execution_count": 2,
   "id": "dc22b702",
   "metadata": {},
   "outputs": [
    {
     "data": {
      "text/plain": [
       "([333, 444, 555], 333, [444, 555])"
      ]
     },
     "execution_count": 2,
     "metadata": {},
     "output_type": "execute_result"
    }
   ],
   "source": [
    "dic_1[\"key1\"], dic_1[\"key1\"][0], dic_1[\"key1\"][1:]"
   ]
  },
  {
   "cell_type": "code",
   "execution_count": 3,
   "id": "34930df3",
   "metadata": {},
   "outputs": [
    {
     "data": {
      "text/plain": [
       "[-999, 444, 555]"
      ]
     },
     "execution_count": 3,
     "metadata": {},
     "output_type": "execute_result"
    }
   ],
   "source": [
    "dic_1[\"key1\"][0] = -999\n",
    "dic_1[\"key1\"]"
   ]
  },
  {
   "cell_type": "code",
   "execution_count": 4,
   "id": "71a4201d",
   "metadata": {},
   "outputs": [
    {
     "data": {
      "text/plain": [
       "dict_keys(['key1', 'key2'])"
      ]
     },
     "execution_count": 4,
     "metadata": {},
     "output_type": "execute_result"
    }
   ],
   "source": [
    "dic_1.keys()"
   ]
  },
  {
   "cell_type": "markdown",
   "id": "ccbcd418",
   "metadata": {},
   "source": [
    "#### 집합(set)\n",
    "리스트와 튜플과 그 모양이 비슷하나 딕셔너리처럼 키는 없음. 집합의 성질대로 중복된 원소는 허용하지 않음.\n",
    "\n",
    "* 생성  \n",
    "중괄호를 사용하여 생성하며 원소의 구분은 쉼표로 함. 다른 객체와 달리 중첩을 허용하지 않음(unhashable). 즉, 원소에 리스트나 집합 같은 객체가 올 수 없음. 생성시 중복된 원소가 있다면 자동으로 중복 제거가 됨.  \n",
    "  \n",
    "  \n",
    "* 색인\n",
    "???  \n",
    "  \n",
    "  \n",
    "* 조작\n",
    "합집합, 차집합 등 각종 집합 연산을 연산자와 메서드를 사용하여 수행가능."
   ]
  },
  {
   "cell_type": "code",
   "execution_count": 49,
   "id": "e3d01d7e",
   "metadata": {},
   "outputs": [],
   "source": [
    "{100, 200, 300}"
   ]
  },
  {
   "cell_type": "code",
   "execution_count": 52,
   "id": "53a96356",
   "metadata": {},
   "outputs": [],
   "source": [
    "set_1 = {111, 222, 333}\n",
    "set_2 = {111, 2, 3}"
   ]
  },
  {
   "cell_type": "code",
   "execution_count": 57,
   "id": "85815317",
   "metadata": {},
   "outputs": [
    {
     "data": {
      "text/plain": [
       "({2, 3, 111, 222, 333}, {222, 333}, {111})"
      ]
     },
     "execution_count": 57,
     "metadata": {},
     "output_type": "execute_result"
    }
   ],
   "source": [
    "set_1.union(set_2), set_1 - set_2, set_1 & set_2"
   ]
  },
  {
   "cell_type": "markdown",
   "id": "9b7a6a26",
   "metadata": {},
   "source": [
    "### 함수를 활용한 기본 객체의 생성과 조작"
   ]
  },
  {
   "cell_type": "code",
   "execution_count": 63,
   "id": "48876cd8",
   "metadata": {},
   "outputs": [],
   "source": [
    "list([1, 2, 3]), list({1, 2, 3})"
   ]
  },
  {
   "cell_type": "code",
   "execution_count": 64,
   "id": "b3c11a47",
   "metadata": {},
   "outputs": [],
   "source": [
    "tuple([1, 2, 3])"
   ]
  },
  {
   "cell_type": "code",
   "execution_count": 66,
   "id": "68cde516",
   "metadata": {},
   "outputs": [],
   "source": [
    "dict(aa = [1, 2], bb = [3, 4, 5])"
   ]
  },
  {
   "cell_type": "code",
   "execution_count": 65,
   "id": "75e88ecd",
   "metadata": {},
   "outputs": [
    {
     "data": {
      "text/plain": [
       "{1, 2, 3}"
      ]
     },
     "execution_count": 65,
     "metadata": {},
     "output_type": "execute_result"
    }
   ],
   "source": [
    "set([1, 2, 3])"
   ]
  },
  {
   "cell_type": "code",
   "execution_count": 67,
   "id": "4d05107b",
   "metadata": {},
   "outputs": [
    {
     "data": {
      "text/plain": [
       "{1, 3, 5}"
      ]
     },
     "execution_count": 67,
     "metadata": {},
     "output_type": "execute_result"
    }
   ],
   "source": [
    "set([1, 1, 3, 3, 5])"
   ]
  },
  {
   "cell_type": "code",
   "execution_count": 68,
   "id": "346c0355",
   "metadata": {},
   "outputs": [
    {
     "data": {
      "text/plain": [
       "3"
      ]
     },
     "execution_count": 68,
     "metadata": {},
     "output_type": "execute_result"
    }
   ],
   "source": [
    "len([1, 2, 3]) # length의 len을 따온 것으로 원소의 개수를 세어줌."
   ]
  },
  {
   "cell_type": "code",
   "execution_count": 69,
   "id": "273b7470",
   "metadata": {},
   "outputs": [
    {
     "data": {
      "text/plain": [
       "3"
      ]
     },
     "execution_count": 69,
     "metadata": {},
     "output_type": "execute_result"
    }
   ],
   "source": [
    "# 중복 제거 후 남은 원소의 개수\n",
    "len(set([1, 1, 3, 3, 5])) # Pandas Series의 .nunique() 와 같음"
   ]
  },
  {
   "cell_type": "code",
   "execution_count": 70,
   "id": "2c5a0fc0",
   "metadata": {},
   "outputs": [
    {
     "data": {
      "text/plain": [
       "12"
      ]
     },
     "execution_count": 70,
     "metadata": {},
     "output_type": "execute_result"
    }
   ],
   "source": [
    "sum([3, 4, 5])"
   ]
  },
  {
   "cell_type": "code",
   "execution_count": null,
   "id": "bc056d18",
   "metadata": {},
   "outputs": [],
   "source": []
  },
  {
   "cell_type": "code",
   "execution_count": null,
   "id": "b5580092",
   "metadata": {},
   "outputs": [],
   "source": []
  }
 ],
 "metadata": {
  "kernelspec": {
   "display_name": "Python 3 (ipykernel)",
   "language": "python",
   "name": "python3"
  },
  "language_info": {
   "codemirror_mode": {
    "name": "ipython",
    "version": 3
   },
   "file_extension": ".py",
   "mimetype": "text/x-python",
   "name": "python",
   "nbconvert_exporter": "python",
   "pygments_lexer": "ipython3",
   "version": "3.9.13"
  }
 },
 "nbformat": 4,
 "nbformat_minor": 5
}
