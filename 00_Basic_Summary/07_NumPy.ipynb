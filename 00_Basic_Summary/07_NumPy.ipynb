{
 "cells": [
  {
   "cell_type": "markdown",
   "id": "30046e08",
   "metadata": {},
   "source": [
    "### 라이브러리 호출\n",
    "NumPy는 두 글자로 줄인 \"np\"로 사용\n",
    "\n",
    "> **import** numpy **as** np"
   ]
  },
  {
   "cell_type": "code",
   "execution_count": 1,
   "id": "2fa55bca",
   "metadata": {},
   "outputs": [],
   "source": [
    "import numpy as np"
   ]
  },
  {
   "cell_type": "markdown",
   "id": "a2b1b85a",
   "metadata": {},
   "source": [
    "### NumPy 객체 - Array\n",
    "다차원의 복잡한 구조 구현이 가능한 객체로 리스트를 기반으로 생성하며 벡터연산과 행렬연산 뿐만아니라 다양한 수치연산까지 지원.\n",
    "\n",
    "* 생성  \n",
    "array() 함수에 리스트 객체를 입력. 객체의 차원은 리스트 객체의 중첩수와 동일하며 2차원 객체의 경우 중첩된 리스트를 쉼표를 사용하여 행을 구분함.  \n",
    "2차원 배열의 경우 특정 행에 할당되는 원소의 개수 또는 특정 열 할당되는 원소의 개수가 같아야 하며 특정 위치의 원소를 명시하지 않으려면 결측 표기를 사용해야함.  \n",
    "※ np.nan  \n",
    "  \n",
    "  \n",
    "* 조작  \n",
    "기본 행렬연산을 지원하며 각종 메서드를 활용하여 복잡한 산술연산 수행 가능.  \n",
    "리스트 객체와는 달리 일부 원소를 추출할 때 이산 위치의 원소 또한 추출 가능.  \n",
    "특정 위치의 원소를 추출하는 것 뿐만 아니라 조건식을 사용한 필터링 가능.  \n",
    "일부 또는 전체를 복제하는 경우 단순 데이터의 주소만 복사하는 \"얕은 복사\"와 데이터를 온전히 복사하는 \"깊은 복사\"의 동작에 유의할 것.\n",
    "※ np.array.copy()"
   ]
  },
  {
   "cell_type": "code",
   "execution_count": null,
   "id": "a7e2494d",
   "metadata": {},
   "outputs": [],
   "source": [
    "np.array([1, 2])"
   ]
  },
  {
   "cell_type": "code",
   "execution_count": null,
   "id": "b46071e9",
   "metadata": {},
   "outputs": [],
   "source": [
    "np.array([[1, 2], [3, 4]])"
   ]
  },
  {
   "cell_type": "code",
   "execution_count": null,
   "id": "a356d555",
   "metadata": {},
   "outputs": [],
   "source": [
    "np.array([[1, 2], [3, 4, 5]])"
   ]
  },
  {
   "cell_type": "code",
   "execution_count": 6,
   "id": "23579cb9",
   "metadata": {},
   "outputs": [
    {
     "data": {
      "text/plain": [
       "array([[ 1.,  2., nan],\n",
       "       [ 3.,  4.,  5.]])"
      ]
     },
     "execution_count": 6,
     "metadata": {},
     "output_type": "execute_result"
    }
   ],
   "source": [
    "np.array([[1, 2, np.nan], [3, 4, 5]])"
   ]
  },
  {
   "cell_type": "code",
   "execution_count": 60,
   "id": "747ecef4",
   "metadata": {},
   "outputs": [
    {
     "data": {
      "text/plain": [
       "(4,)"
      ]
     },
     "execution_count": 60,
     "metadata": {},
     "output_type": "execute_result"
    }
   ],
   "source": [
    "arr1 = np.array([2, 4, 6, 8])\n",
    "arr1.shape # shape는 각 차원의 길이(또는 원소 개수)"
   ]
  },
  {
   "cell_type": "code",
   "execution_count": 61,
   "id": "de286289",
   "metadata": {},
   "outputs": [
    {
     "data": {
      "text/plain": [
       "(20, 2.23606797749979, 5.0, 2, 8)"
      ]
     },
     "execution_count": 61,
     "metadata": {},
     "output_type": "execute_result"
    }
   ],
   "source": [
    "arr1.sum(), arr1.std(), arr1.var(), arr1.min(), arr1.max()"
   ]
  },
  {
   "cell_type": "code",
   "execution_count": 62,
   "id": "81ad3885",
   "metadata": {},
   "outputs": [
    {
     "data": {
      "text/plain": [
       "(3, 0)"
      ]
     },
     "execution_count": 62,
     "metadata": {},
     "output_type": "execute_result"
    }
   ],
   "source": [
    "arr1.argmax(), arr1.argmin()"
   ]
  },
  {
   "cell_type": "code",
   "execution_count": 64,
   "id": "48c2dd5e",
   "metadata": {},
   "outputs": [
    {
     "data": {
      "text/plain": [
       "array([1002, 1004, 1006, 1008])"
      ]
     },
     "execution_count": 64,
     "metadata": {},
     "output_type": "execute_result"
    }
   ],
   "source": [
    "arr1 + 1000"
   ]
  },
  {
   "cell_type": "code",
   "execution_count": 65,
   "id": "4b55a02c",
   "metadata": {},
   "outputs": [
    {
     "data": {
      "text/plain": [
       "array([ 40,  80, 120, 160])"
      ]
     },
     "execution_count": 65,
     "metadata": {},
     "output_type": "execute_result"
    }
   ],
   "source": [
    "arr1 * 20"
   ]
  },
  {
   "cell_type": "code",
   "execution_count": 14,
   "id": "26641864",
   "metadata": {},
   "outputs": [
    {
     "data": {
      "text/plain": [
       "array([[2, 4],\n",
       "       [6, 8]])"
      ]
     },
     "execution_count": 14,
     "metadata": {},
     "output_type": "execute_result"
    }
   ],
   "source": [
    "arr1.reshape((2, 2)) # 2x2 배열(행렬)로 자료구조 변경"
   ]
  },
  {
   "cell_type": "code",
   "execution_count": 17,
   "id": "762b8851",
   "metadata": {
    "collapsed": true
   },
   "outputs": [
    {
     "data": {
      "text/plain": [
       "(2, array([2, 4]), 8, array([4, 8]))"
      ]
     },
     "execution_count": 17,
     "metadata": {},
     "output_type": "execute_result"
    }
   ],
   "source": [
    "arr1[0], arr1[:2], arr1[-1], arr1[[1, 3]]"
   ]
  },
  {
   "cell_type": "code",
   "execution_count": 18,
   "id": "4a36e501",
   "metadata": {
    "collapsed": true
   },
   "outputs": [
    {
     "data": {
      "text/plain": [
       "array([6, 8])"
      ]
     },
     "execution_count": 18,
     "metadata": {},
     "output_type": "execute_result"
    }
   ],
   "source": [
    "arr1_sub = arr1[2:]\n",
    "arr1_sub"
   ]
  },
  {
   "cell_type": "code",
   "execution_count": 19,
   "id": "f6b6ba30",
   "metadata": {},
   "outputs": [
    {
     "data": {
      "text/plain": [
       "array([  6, 999])"
      ]
     },
     "execution_count": 19,
     "metadata": {},
     "output_type": "execute_result"
    }
   ],
   "source": [
    "arr1[-1] = 999\n",
    "arr1_sub"
   ]
  },
  {
   "cell_type": "code",
   "execution_count": 20,
   "id": "270ca68f",
   "metadata": {},
   "outputs": [
    {
     "data": {
      "text/plain": [
       "array([2, 4])"
      ]
     },
     "execution_count": 20,
     "metadata": {},
     "output_type": "execute_result"
    }
   ],
   "source": [
    "arr1_sub2 = arr1[:2].copy() # 깊은 복사\n",
    "arr1[0] = 999\n",
    "arr1_sub2"
   ]
  },
  {
   "cell_type": "code",
   "execution_count": 22,
   "id": "48bbefdc",
   "metadata": {},
   "outputs": [
    {
     "data": {
      "text/plain": [
       "array([ True, False, False,  True])"
      ]
     },
     "execution_count": 22,
     "metadata": {},
     "output_type": "execute_result"
    }
   ],
   "source": [
    "arr1 > 100"
   ]
  },
  {
   "cell_type": "code",
   "execution_count": 23,
   "id": "829fb043",
   "metadata": {},
   "outputs": [
    {
     "data": {
      "text/plain": [
       "array([999, 999])"
      ]
     },
     "execution_count": 23,
     "metadata": {},
     "output_type": "execute_result"
    }
   ],
   "source": [
    "arr1[arr1 > 100] # 조건식 결과가 True에 해당하는 위치의 원소가 필터링 됨"
   ]
  },
  {
   "cell_type": "code",
   "execution_count": 25,
   "id": "92725206",
   "metadata": {},
   "outputs": [
    {
     "data": {
      "text/plain": [
       "array([[100, 200, 300],\n",
       "       [400, 500, 600]])"
      ]
     },
     "execution_count": 25,
     "metadata": {},
     "output_type": "execute_result"
    }
   ],
   "source": [
    "arr2 = np.array([[100, 200, 300], [400, 500, 600]])\n",
    "arr2 "
   ]
  },
  {
   "cell_type": "code",
   "execution_count": 27,
   "id": "75b3579a",
   "metadata": {},
   "outputs": [
    {
     "data": {
      "text/plain": [
       "(2100, 170.78251276599332, 29166.666666666668, 100, 600)"
      ]
     },
     "execution_count": 27,
     "metadata": {},
     "output_type": "execute_result"
    }
   ],
   "source": [
    "# 모든 원소를 일괄 연산\n",
    "arr2.sum(), arr2.std(), arr2.var(), arr2.min(), arr2.max()"
   ]
  },
  {
   "cell_type": "code",
   "execution_count": 30,
   "id": "f712df9b",
   "metadata": {},
   "outputs": [
    {
     "data": {
      "text/plain": [
       "(array([500, 700, 900]), array([ 600, 1500]))"
      ]
     },
     "execution_count": 30,
     "metadata": {},
     "output_type": "execute_result"
    }
   ],
   "source": [
    "arr2.sum(axis = 0), arr2.sum(axis = 1)"
   ]
  },
  {
   "cell_type": "code",
   "execution_count": 31,
   "id": "5b6217cd",
   "metadata": {},
   "outputs": [
    {
     "data": {
      "text/plain": [
       "array([[100, 200],\n",
       "       [300, 400],\n",
       "       [500, 600]])"
      ]
     },
     "execution_count": 31,
     "metadata": {},
     "output_type": "execute_result"
    }
   ],
   "source": [
    "arr2.reshape((3, 2))"
   ]
  },
  {
   "cell_type": "code",
   "execution_count": 37,
   "id": "1f898790",
   "metadata": {},
   "outputs": [
    {
     "data": {
      "text/plain": [
       "array([400, 500, 600])"
      ]
     },
     "execution_count": 37,
     "metadata": {},
     "output_type": "execute_result"
    }
   ],
   "source": [
    "arr2[1] # 쉼표를 사용하지 않는 경우 row 기준 index로 동작하나 사용 지양"
   ]
  },
  {
   "cell_type": "code",
   "execution_count": 38,
   "id": "78dfbee0",
   "metadata": {},
   "outputs": [
    {
     "data": {
      "text/plain": [
       "array([400, 500, 600])"
      ]
     },
     "execution_count": 38,
     "metadata": {},
     "output_type": "execute_result"
    }
   ],
   "source": [
    "arr2[1, ] # 쉼표 뒤를 생략하면 모든 column을 지정하는 것과 같다."
   ]
  },
  {
   "cell_type": "code",
   "execution_count": 40,
   "id": "1ab359c3",
   "metadata": {},
   "outputs": [
    {
     "data": {
      "text/plain": [
       "array([200, 500])"
      ]
     },
     "execution_count": 40,
     "metadata": {},
     "output_type": "execute_result"
    }
   ],
   "source": [
    "# arr2[, 1] # Error!\n",
    "arr2[:, 1] # 쉼표 앞은 생략이 불가하며 모든 row 선택시 콜론(:)을 사용"
   ]
  },
  {
   "cell_type": "code",
   "execution_count": 42,
   "id": "b245a125",
   "metadata": {},
   "outputs": [
    {
     "data": {
      "text/plain": [
       "(200, array([100, 200]))"
      ]
     },
     "execution_count": 42,
     "metadata": {},
     "output_type": "execute_result"
    }
   ],
   "source": [
    "arr2[0, 1], arr2[0, :2] # 원소가 하나만 출력되는 경우 배열구조가 풀린다."
   ]
  },
  {
   "cell_type": "code",
   "execution_count": 46,
   "id": "c86a2032",
   "metadata": {},
   "outputs": [
    {
     "data": {
      "text/plain": [
       "array([False,  True])"
      ]
     },
     "execution_count": 46,
     "metadata": {},
     "output_type": "execute_result"
    }
   ],
   "source": [
    "arr2[:, 0] == 400"
   ]
  },
  {
   "cell_type": "code",
   "execution_count": 45,
   "id": "8da68135",
   "metadata": {},
   "outputs": [
    {
     "data": {
      "text/plain": [
       "array([[400, 500, 600]])"
      ]
     },
     "execution_count": 45,
     "metadata": {},
     "output_type": "execute_result"
    }
   ],
   "source": [
    "arr2[arr2[:, 0] == 400, ] # row 필터링."
   ]
  },
  {
   "cell_type": "markdown",
   "id": "f241731d",
   "metadata": {},
   "source": [
    "### 유용한 함수"
   ]
  },
  {
   "cell_type": "code",
   "execution_count": 49,
   "id": "e1cce5ba",
   "metadata": {},
   "outputs": [
    {
     "data": {
      "text/plain": [
       "(array([0, 1, 2]), array([1, 2, 3]), array([5, 7]))"
      ]
     },
     "execution_count": 49,
     "metadata": {},
     "output_type": "execute_result"
    }
   ],
   "source": [
    "# range() 함수와 유사하나 결과 출력이 NumPy 배열이다.\n",
    "np.arange(3), np.arange(1, 4), np.arange(5, 9, 2)"
   ]
  },
  {
   "cell_type": "code",
   "execution_count": 51,
   "id": "25e262cb",
   "metadata": {},
   "outputs": [
    {
     "data": {
      "text/plain": [
       "array(['GT100', 'LE100', 'LE100', 'GT100'], dtype='<U5')"
      ]
     },
     "execution_count": 51,
     "metadata": {},
     "output_type": "execute_result"
    }
   ],
   "source": [
    "# np.where(조건, True일 때 반환값, False일 때 반환값)\n",
    "np.where(arr1 > 100, \"GT100\", \"LE100\")"
   ]
  },
  {
   "cell_type": "code",
   "execution_count": 52,
   "id": "b67752c9",
   "metadata": {},
   "outputs": [
    {
     "data": {
      "text/plain": [
       "array([1, 0, 0, 1])"
      ]
     },
     "execution_count": 52,
     "metadata": {},
     "output_type": "execute_result"
    }
   ],
   "source": [
    "np.where(arr1 > 100, 1, 0)"
   ]
  },
  {
   "cell_type": "code",
   "execution_count": 53,
   "id": "3fcc8c7d",
   "metadata": {},
   "outputs": [
    {
     "data": {
      "text/plain": [
       "array(['999', 'LE100', 'LE100', '999'], dtype='<U11')"
      ]
     },
     "execution_count": 53,
     "metadata": {},
     "output_type": "execute_result"
    }
   ],
   "source": [
    "np.where(arr1 > 100, arr1, \"LE100\")"
   ]
  },
  {
   "cell_type": "code",
   "execution_count": 54,
   "id": "fbf69a6d",
   "metadata": {},
   "outputs": [
    {
     "data": {
      "text/plain": [
       "array([0, 1, 2, 5, 8, 9])"
      ]
     },
     "execution_count": 54,
     "metadata": {},
     "output_type": "execute_result"
    }
   ],
   "source": [
    "np.r_[:3, 5, 8:10] # 연속과 이산을 섞어 쓸 수 있다."
   ]
  },
  {
   "cell_type": "code",
   "execution_count": 59,
   "id": "4bd2eb0b",
   "metadata": {},
   "outputs": [
    {
     "data": {
      "text/plain": [
       "array([1, 5, 9])"
      ]
     },
     "execution_count": 59,
     "metadata": {},
     "output_type": "execute_result"
    }
   ],
   "source": [
    "np.diag(np.array([[1, 2, 3],\n",
    "                  [4, 5, 6],\n",
    "                  [7, 8, 9]])) # 대각 원소 추출"
   ]
  }
 ],
 "metadata": {
  "kernelspec": {
   "display_name": "Python 3 (ipykernel)",
   "language": "python",
   "name": "python3"
  },
  "language_info": {
   "codemirror_mode": {
    "name": "ipython",
    "version": 3
   },
   "file_extension": ".py",
   "mimetype": "text/x-python",
   "name": "python",
   "nbconvert_exporter": "python",
   "pygments_lexer": "ipython3",
   "version": "3.9.13"
  }
 },
 "nbformat": 4,
 "nbformat_minor": 5
}
