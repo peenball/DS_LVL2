{
 "cells": [
  {
   "cell_type": "markdown",
   "id": "10bbd719",
   "metadata": {},
   "source": [
    "### 숫자\n",
    "데이터를 다루면서 사용하는 숫자는 주로 정수와 실수이다. 복소수도 사용할 수 있으나 특수한 경우(복소해석학 관련 또는 푸리에 변환)를 제외하고는 거의 사용할 일이 없음.  \n",
    "매우 크거나 작은 숫자의 경우 e를 활용할 수 있음."
   ]
  },
  {
   "cell_type": "code",
   "execution_count": 34,
   "id": "e1c6f117",
   "metadata": {},
   "outputs": [
    {
     "data": {
      "text/plain": [
       "1.23"
      ]
     },
     "execution_count": 34,
     "metadata": {},
     "output_type": "execute_result"
    }
   ],
   "source": [
    "1.23"
   ]
  },
  {
   "cell_type": "code",
   "execution_count": 35,
   "id": "01cd63a5",
   "metadata": {},
   "outputs": [
    {
     "data": {
      "text/plain": [
       "123000.0"
      ]
     },
     "execution_count": 35,
     "metadata": {},
     "output_type": "execute_result"
    }
   ],
   "source": [
    "123e3 # 123 x 10^3"
   ]
  },
  {
   "cell_type": "code",
   "execution_count": 36,
   "id": "4d2b6ab7",
   "metadata": {},
   "outputs": [
    {
     "data": {
      "text/plain": [
       "0.0123"
      ]
     },
     "execution_count": 36,
     "metadata": {},
     "output_type": "execute_result"
    }
   ],
   "source": [
    "123e-4 # 123 x 10^-4"
   ]
  },
  {
   "cell_type": "markdown",
   "id": "b5af37b5",
   "metadata": {},
   "source": [
    "### 문자\n",
    "문자의 시작과 끝은 따옴표를 사용하며 작은 따옴표나 큰 따옴표 다 사용이 가능하나 기본적으로 혼용하지 않음. 단, 문자에 강조표기 등의 이유로 따옴표를 쓸 경우 혼용할 수 있음."
   ]
  },
  {
   "cell_type": "code",
   "execution_count": 37,
   "id": "90406f10",
   "metadata": {},
   "outputs": [
    {
     "data": {
      "text/plain": [
       "('abc', 'abc')"
      ]
     },
     "execution_count": 37,
     "metadata": {},
     "output_type": "execute_result"
    }
   ],
   "source": [
    "'abc', \"abc\" # 쉼표를 사용하면 파이썬은 자동으로 튜플(tuple)로 인식"
   ]
  },
  {
   "cell_type": "code",
   "execution_count": 38,
   "id": "e277f69e",
   "metadata": {},
   "outputs": [
    {
     "data": {
      "text/plain": [
       "(\"'a'bc\", '\"a\"bc')"
      ]
     },
     "execution_count": 38,
     "metadata": {},
     "output_type": "execute_result"
    }
   ],
   "source": [
    "\"'a'bc\", '\"a\"bc'"
   ]
  },
  {
   "cell_type": "markdown",
   "id": "dd3eef7e",
   "metadata": {},
   "source": [
    "따옴표를 한 종류만 사용하면서 텍스트 내부에 따옴표를 온전하게 표기하고자 하는 경우는 이스케이프 문자인 원화기호(또는 역슬래시)를 사용한다."
   ]
  },
  {
   "cell_type": "code",
   "execution_count": 39,
   "id": "0a08bdb1",
   "metadata": {},
   "outputs": [
    {
     "data": {
      "text/plain": [
       "(\"'a'bc\", '\"a\"bc')"
      ]
     },
     "execution_count": 39,
     "metadata": {},
     "output_type": "execute_result"
    }
   ],
   "source": [
    "'\\'a\\'bc', \"\\\"a\\\"bc\""
   ]
  },
  {
   "cell_type": "markdown",
   "id": "dc7ec502",
   "metadata": {},
   "source": [
    "따옴표를 (좌우)연속으로 3개 사용하는 경우 그 사이에 어떤것이 오더라도 모두 문자로 처리한다."
   ]
  },
  {
   "cell_type": "code",
   "execution_count": 40,
   "id": "9376db94",
   "metadata": {},
   "outputs": [
    {
     "data": {
      "text/plain": [
       "('abc', 'abc', '\"a\"bc', \"'a'bc\")"
      ]
     },
     "execution_count": 40,
     "metadata": {},
     "output_type": "execute_result"
    }
   ],
   "source": [
    "'''abc''', \"\"\"abc\"\"\", \"\"\"\"a\"bc\"\"\", \"\"\"'a'bc\"\"\""
   ]
  },
  {
   "cell_type": "markdown",
   "id": "da0ad963",
   "metadata": {},
   "source": [
    "문자열의 추출을 위해서는 대괄호와 인덱스를 활용한다.  \n",
    "※ Python의 경우 인덱스는 0부터 시작"
   ]
  },
  {
   "cell_type": "code",
   "execution_count": 41,
   "id": "833db963",
   "metadata": {},
   "outputs": [
    {
     "data": {
      "text/plain": [
       "('a', 'b', 'c', 'c')"
      ]
     },
     "execution_count": 41,
     "metadata": {},
     "output_type": "execute_result"
    }
   ],
   "source": [
    "\"abc\"[0], \"abc\"[1], \"abc\"[2], \"abc\"[-1]"
   ]
  },
  {
   "cell_type": "code",
   "execution_count": 42,
   "id": "31a66472",
   "metadata": {},
   "outputs": [
    {
     "data": {
      "text/plain": [
       "('ab', 'bc')"
      ]
     },
     "execution_count": 42,
     "metadata": {},
     "output_type": "execute_result"
    }
   ],
   "source": [
    "\"abc\"[:2], \"abc\"[-2:]"
   ]
  },
  {
   "cell_type": "markdown",
   "id": "862a4d49",
   "metadata": {},
   "source": [
    "문자열 인덱싱(또는 슬라이싱)에서 단일 문자 또는 연속된 문자를 추출할 수 있으나 이산수열을 활용한 인덱싱은 지원하지 않는다."
   ]
  },
  {
   "cell_type": "code",
   "execution_count": 43,
   "id": "8b2281d9",
   "metadata": {},
   "outputs": [],
   "source": [
    "# \"abc\"[0, 2]\n",
    "# \"abc\"[[0, 2]]"
   ]
  },
  {
   "cell_type": "markdown",
   "id": "b3a27e4a",
   "metadata": {},
   "source": [
    "문자열을 별도의 객체(object, 데이터를 담는 용기라고 생각)에 저장하여 인덱싱 하는 예제는 다음과 같다."
   ]
  },
  {
   "cell_type": "code",
   "execution_count": 44,
   "id": "c7523010",
   "metadata": {},
   "outputs": [
    {
     "data": {
      "text/plain": [
       "'a'"
      ]
     },
     "execution_count": 44,
     "metadata": {},
     "output_type": "execute_result"
    }
   ],
   "source": [
    "aa = \"abc\"\n",
    "aa[0]"
   ]
  },
  {
   "cell_type": "markdown",
   "id": "be5b71ee",
   "metadata": {},
   "source": [
    "### 논리값\n",
    "대표적으로 True와 False가 있으며 여기서 T와 F는 반드시 대문자로 표기해야 한다.\n",
    "* True: 어떠한 조건의 참. 또는 특정 함수나 메서드의 설정을 활성화 하는데도 사용되며 내부에서는 정수 1로 처리\n",
    "* False: 어떠한 조건의 거짓. 또는 특정 함수나 메서드의 설정을 비활성화 하는데도 사용되며 내부에서는 정수 0로 처리"
   ]
  },
  {
   "cell_type": "code",
   "execution_count": 45,
   "id": "1bb4099e",
   "metadata": {},
   "outputs": [
    {
     "data": {
      "text/plain": [
       "(True, False)"
      ]
     },
     "execution_count": 45,
     "metadata": {},
     "output_type": "execute_result"
    }
   ],
   "source": [
    "True, False"
   ]
  },
  {
   "cell_type": "markdown",
   "id": "17a6c304",
   "metadata": {},
   "source": [
    "### 연산자\n",
    "파이썬에는 다양한 연산자가 있으나 주로 사용하는 연산자는 다음과 같다.\n",
    "* 산술 연산자: 각종 원소의 산술연산이 기본이며 기타 기능도 지원\n",
    "* 비교 연산자: 보통 이항연산자로 연산자 좌우의 원소를 비교\n",
    "* 할당 연산자: 원소 또는 객체를 다른 객체 또는 함수의 인자에 할당시 사용"
   ]
  },
  {
   "cell_type": "markdown",
   "id": "c0a58828",
   "metadata": {},
   "source": [
    "#### 산술 연산자\n",
    "* 사칙연산: +, -, \\*, /, //(몫), %(나머지)\n",
    "* 지수연산: \\*\\*  \n",
    "  ※ 별도의 제곱근 함수 사용대신 지수부에 0.5를 입력하는 것을 권장"
   ]
  },
  {
   "cell_type": "code",
   "execution_count": 46,
   "id": "09307614",
   "metadata": {},
   "outputs": [
    {
     "data": {
      "text/plain": [
       "(2, 1)"
      ]
     },
     "execution_count": 46,
     "metadata": {},
     "output_type": "execute_result"
    }
   ],
   "source": [
    "5 // 2, 5 % 2"
   ]
  },
  {
   "cell_type": "code",
   "execution_count": 47,
   "id": "9628c6e3",
   "metadata": {},
   "outputs": [
    {
     "data": {
      "text/plain": [
       "(16, 2.0)"
      ]
     },
     "execution_count": 47,
     "metadata": {},
     "output_type": "execute_result"
    }
   ],
   "source": [
    "4 ** 2, 4 ** 0.5"
   ]
  },
  {
   "cell_type": "markdown",
   "id": "5627b4fc",
   "metadata": {},
   "source": [
    "산술연산자 중 +, \\*는 문자 또는 리스트(list) 객체 연산에 활용할 수 있다."
   ]
  },
  {
   "cell_type": "code",
   "execution_count": 54,
   "id": "26be3aa3",
   "metadata": {},
   "outputs": [],
   "source": [
    "\"abc\" + \"def\""
   ]
  },
  {
   "cell_type": "code",
   "execution_count": 52,
   "id": "b481fe58",
   "metadata": {},
   "outputs": [
    {
     "data": {
      "text/plain": [
       "'abcabcabc'"
      ]
     },
     "execution_count": 52,
     "metadata": {},
     "output_type": "execute_result"
    }
   ],
   "source": [
    "\"abc\" * 3"
   ]
  },
  {
   "cell_type": "markdown",
   "id": "eec2bf88",
   "metadata": {},
   "source": [
    "True와 False는 산술연산을 실시할 경우 자동으로 정수형으로 바뀜."
   ]
  },
  {
   "cell_type": "code",
   "execution_count": 2,
   "id": "f6341ca2",
   "metadata": {},
   "outputs": [
    {
     "data": {
      "text/plain": [
       "2"
      ]
     },
     "execution_count": 2,
     "metadata": {},
     "output_type": "execute_result"
    }
   ],
   "source": [
    "True + True"
   ]
  },
  {
   "cell_type": "code",
   "execution_count": 3,
   "id": "c6767d47",
   "metadata": {},
   "outputs": [
    {
     "data": {
      "text/plain": [
       "1"
      ]
     },
     "execution_count": 3,
     "metadata": {},
     "output_type": "execute_result"
    }
   ],
   "source": [
    "True - False"
   ]
  },
  {
   "cell_type": "markdown",
   "id": "d3ba6a38",
   "metadata": {},
   "source": [
    "#### 비교 연산자\n",
    "* 대소비교: >=, <=, >, <\n",
    "* 같은지다른지...: ==, !=  \n",
    "  ※ 등호(equal)를 2개 사용하며 느낌표는 반대(not)를 뜻함"
   ]
  },
  {
   "cell_type": "code",
   "execution_count": 48,
   "id": "3174eafd",
   "metadata": {},
   "outputs": [
    {
     "data": {
      "text/plain": [
       "(True, True)"
      ]
     },
     "execution_count": 48,
     "metadata": {},
     "output_type": "execute_result"
    }
   ],
   "source": [
    "3 > 2, 4 <= 6"
   ]
  },
  {
   "cell_type": "code",
   "execution_count": 49,
   "id": "bcbc5d08",
   "metadata": {},
   "outputs": [
    {
     "data": {
      "text/plain": [
       "(True, False, True)"
      ]
     },
     "execution_count": 49,
     "metadata": {},
     "output_type": "execute_result"
    }
   ],
   "source": [
    "\"aa\" == \"aa\", \"aa\" != \"aa\", \"aa\" != \"bb\""
   ]
  },
  {
   "cell_type": "markdown",
   "id": "a36926f5",
   "metadata": {},
   "source": [
    "#### 할당 연산자\n",
    "객체 또는 함수의 인자에 원소 또는 객체를 할당하기 위해 사용한다. 기본적으로 \"=\"을 사용하며 별도의 산술연산을 동반한 할당을 할 경우 등호 앞에 관련 산술연산자를 붙여서 사용할 수 있다."
   ]
  },
  {
   "cell_type": "code",
   "execution_count": 50,
   "id": "e2d7b6db",
   "metadata": {},
   "outputs": [
    {
     "data": {
      "text/plain": [
       "1"
      ]
     },
     "execution_count": 50,
     "metadata": {},
     "output_type": "execute_result"
    }
   ],
   "source": [
    "aa = 1\n",
    "aa"
   ]
  },
  {
   "cell_type": "code",
   "execution_count": 33,
   "id": "8cd96ed4",
   "metadata": {},
   "outputs": [
    {
     "data": {
      "text/plain": [
       "4"
      ]
     },
     "execution_count": 33,
     "metadata": {},
     "output_type": "execute_result"
    }
   ],
   "source": [
    "aa += 3 # aa = aa + 3 과 같음\n",
    "aa"
   ]
  },
  {
   "cell_type": "code",
   "execution_count": null,
   "id": "0b8399b7",
   "metadata": {},
   "outputs": [],
   "source": []
  }
 ],
 "metadata": {
  "kernelspec": {
   "display_name": "Python 3 (ipykernel)",
   "language": "python",
   "name": "python3"
  },
  "language_info": {
   "codemirror_mode": {
    "name": "ipython",
    "version": 3
   },
   "file_extension": ".py",
   "mimetype": "text/x-python",
   "name": "python",
   "nbconvert_exporter": "python",
   "pygments_lexer": "ipython3",
   "version": "3.9.13"
  }
 },
 "nbformat": 4,
 "nbformat_minor": 5
}
