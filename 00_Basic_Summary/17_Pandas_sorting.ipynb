{
 "cells": [
  {
   "cell_type": "code",
   "execution_count": 1,
   "id": "f887f96d",
   "metadata": {},
   "outputs": [],
   "source": [
    "import pandas as pd"
   ]
  },
  {
   "cell_type": "code",
   "execution_count": 2,
   "id": "23bb1dfd",
   "metadata": {
    "collapsed": true
   },
   "outputs": [
    {
     "data": {
      "text/html": [
       "<div>\n",
       "<style scoped>\n",
       "    .dataframe tbody tr th:only-of-type {\n",
       "        vertical-align: middle;\n",
       "    }\n",
       "\n",
       "    .dataframe tbody tr th {\n",
       "        vertical-align: top;\n",
       "    }\n",
       "\n",
       "    .dataframe thead th {\n",
       "        text-align: right;\n",
       "    }\n",
       "</style>\n",
       "<table border=\"1\" class=\"dataframe\">\n",
       "  <thead>\n",
       "    <tr style=\"text-align: right;\">\n",
       "      <th></th>\n",
       "      <th>지점</th>\n",
       "      <th>상품</th>\n",
       "      <th>Q1</th>\n",
       "      <th>Q2</th>\n",
       "      <th>Q3</th>\n",
       "      <th>Q4</th>\n",
       "    </tr>\n",
       "  </thead>\n",
       "  <tbody>\n",
       "    <tr>\n",
       "      <th>0</th>\n",
       "      <td>A</td>\n",
       "      <td>P1</td>\n",
       "      <td>112</td>\n",
       "      <td>212</td>\n",
       "      <td>312</td>\n",
       "      <td>412</td>\n",
       "    </tr>\n",
       "    <tr>\n",
       "      <th>1</th>\n",
       "      <td>A</td>\n",
       "      <td>P2</td>\n",
       "      <td>134</td>\n",
       "      <td>234</td>\n",
       "      <td>334</td>\n",
       "      <td>434</td>\n",
       "    </tr>\n",
       "    <tr>\n",
       "      <th>2</th>\n",
       "      <td>B</td>\n",
       "      <td>P1</td>\n",
       "      <td>156</td>\n",
       "      <td>256</td>\n",
       "      <td>356</td>\n",
       "      <td>456</td>\n",
       "    </tr>\n",
       "    <tr>\n",
       "      <th>3</th>\n",
       "      <td>B</td>\n",
       "      <td>P2</td>\n",
       "      <td>178</td>\n",
       "      <td>278</td>\n",
       "      <td>378</td>\n",
       "      <td>478</td>\n",
       "    </tr>\n",
       "  </tbody>\n",
       "</table>\n",
       "</div>"
      ],
      "text/plain": [
       "  지점  상품   Q1   Q2   Q3   Q4\n",
       "0  A  P1  112  212  312  412\n",
       "1  A  P2  134  234  334  434\n",
       "2  B  P1  156  256  356  456\n",
       "3  B  P2  178  278  378  478"
      ]
     },
     "execution_count": 2,
     "metadata": {},
     "output_type": "execute_result"
    }
   ],
   "source": [
    "df = pd.DataFrame({\"지점\": [\"A\", \"A\", \"B\", \"B\"],\n",
    "                   \"상품\": [\"P1\", \"P2\", \"P1\", \"P2\"],\n",
    "                   \"Q1\": [112, 134, 156, 178],\n",
    "                   \"Q2\": [212, 234, 256, 278],\n",
    "                   \"Q3\": [312, 334, 356, 378],\n",
    "                   \"Q4\": [412, 434, 456, 478]})\n",
    "df"
   ]
  },
  {
   "cell_type": "markdown",
   "id": "1aaa7f6e",
   "metadata": {},
   "source": [
    "정렬은 크게 인덱스 기준, 값 기준이 있으며 DataFrame의 경우 변수별 별도의 방법으로 정렬할 수 있음. 정렬 방법으로는 오름차순(ascending)과 내림차순(descending)이 있음"
   ]
  },
  {
   "cell_type": "markdown",
   "id": "d61ce2b6",
   "metadata": {},
   "source": [
    "* .sort_index(): 인덱스 기반의 정렬\n",
    "* .sort_values(): 값(또는 변수) 기반의 정렬"
   ]
  },
  {
   "cell_type": "markdown",
   "id": "e292a82d",
   "metadata": {},
   "source": [
    ".sort_index()의 경우 그래프를 그리기 전이나 시계열 분해(timeseries decomposition) 등 인덱스 정렬이 필요한 특수한 경우 이외에 잘 사용하지 않음."
   ]
  },
  {
   "cell_type": "code",
   "execution_count": 4,
   "id": "de69398b",
   "metadata": {
    "collapsed": true
   },
   "outputs": [
    {
     "data": {
      "text/html": [
       "<div>\n",
       "<style scoped>\n",
       "    .dataframe tbody tr th:only-of-type {\n",
       "        vertical-align: middle;\n",
       "    }\n",
       "\n",
       "    .dataframe tbody tr th {\n",
       "        vertical-align: top;\n",
       "    }\n",
       "\n",
       "    .dataframe thead th {\n",
       "        text-align: right;\n",
       "    }\n",
       "</style>\n",
       "<table border=\"1\" class=\"dataframe\">\n",
       "  <thead>\n",
       "    <tr style=\"text-align: right;\">\n",
       "      <th></th>\n",
       "      <th>지점</th>\n",
       "      <th>상품</th>\n",
       "      <th>Q1</th>\n",
       "      <th>Q2</th>\n",
       "      <th>Q3</th>\n",
       "      <th>Q4</th>\n",
       "    </tr>\n",
       "  </thead>\n",
       "  <tbody>\n",
       "    <tr>\n",
       "      <th>3</th>\n",
       "      <td>B</td>\n",
       "      <td>P2</td>\n",
       "      <td>178</td>\n",
       "      <td>278</td>\n",
       "      <td>378</td>\n",
       "      <td>478</td>\n",
       "    </tr>\n",
       "    <tr>\n",
       "      <th>2</th>\n",
       "      <td>B</td>\n",
       "      <td>P1</td>\n",
       "      <td>156</td>\n",
       "      <td>256</td>\n",
       "      <td>356</td>\n",
       "      <td>456</td>\n",
       "    </tr>\n",
       "    <tr>\n",
       "      <th>1</th>\n",
       "      <td>A</td>\n",
       "      <td>P2</td>\n",
       "      <td>134</td>\n",
       "      <td>234</td>\n",
       "      <td>334</td>\n",
       "      <td>434</td>\n",
       "    </tr>\n",
       "    <tr>\n",
       "      <th>0</th>\n",
       "      <td>A</td>\n",
       "      <td>P1</td>\n",
       "      <td>112</td>\n",
       "      <td>212</td>\n",
       "      <td>312</td>\n",
       "      <td>412</td>\n",
       "    </tr>\n",
       "  </tbody>\n",
       "</table>\n",
       "</div>"
      ],
      "text/plain": [
       "  지점  상품   Q1   Q2   Q3   Q4\n",
       "3  B  P2  178  278  378  478\n",
       "2  B  P1  156  256  356  456\n",
       "1  A  P2  134  234  334  434\n",
       "0  A  P1  112  212  312  412"
      ]
     },
     "execution_count": 4,
     "metadata": {},
     "output_type": "execute_result"
    }
   ],
   "source": [
    "df.sort_index(ascending = False) # 인덱스 기반 내림차순 정렬"
   ]
  },
  {
   "cell_type": "code",
   "execution_count": 6,
   "id": "da5d8278",
   "metadata": {
    "collapsed": true
   },
   "outputs": [
    {
     "data": {
      "text/html": [
       "<div>\n",
       "<style scoped>\n",
       "    .dataframe tbody tr th:only-of-type {\n",
       "        vertical-align: middle;\n",
       "    }\n",
       "\n",
       "    .dataframe tbody tr th {\n",
       "        vertical-align: top;\n",
       "    }\n",
       "\n",
       "    .dataframe thead th {\n",
       "        text-align: right;\n",
       "    }\n",
       "</style>\n",
       "<table border=\"1\" class=\"dataframe\">\n",
       "  <thead>\n",
       "    <tr style=\"text-align: right;\">\n",
       "      <th></th>\n",
       "      <th>지점</th>\n",
       "      <th>상품</th>\n",
       "      <th>Q1</th>\n",
       "      <th>Q2</th>\n",
       "      <th>Q3</th>\n",
       "      <th>Q4</th>\n",
       "    </tr>\n",
       "  </thead>\n",
       "  <tbody>\n",
       "    <tr>\n",
       "      <th>3</th>\n",
       "      <td>B</td>\n",
       "      <td>P2</td>\n",
       "      <td>178</td>\n",
       "      <td>278</td>\n",
       "      <td>378</td>\n",
       "      <td>478</td>\n",
       "    </tr>\n",
       "    <tr>\n",
       "      <th>2</th>\n",
       "      <td>B</td>\n",
       "      <td>P1</td>\n",
       "      <td>156</td>\n",
       "      <td>256</td>\n",
       "      <td>356</td>\n",
       "      <td>456</td>\n",
       "    </tr>\n",
       "    <tr>\n",
       "      <th>1</th>\n",
       "      <td>A</td>\n",
       "      <td>P2</td>\n",
       "      <td>134</td>\n",
       "      <td>234</td>\n",
       "      <td>334</td>\n",
       "      <td>434</td>\n",
       "    </tr>\n",
       "    <tr>\n",
       "      <th>0</th>\n",
       "      <td>A</td>\n",
       "      <td>P1</td>\n",
       "      <td>112</td>\n",
       "      <td>212</td>\n",
       "      <td>312</td>\n",
       "      <td>412</td>\n",
       "    </tr>\n",
       "  </tbody>\n",
       "</table>\n",
       "</div>"
      ],
      "text/plain": [
       "  지점  상품   Q1   Q2   Q3   Q4\n",
       "3  B  P2  178  278  378  478\n",
       "2  B  P1  156  256  356  456\n",
       "1  A  P2  134  234  334  434\n",
       "0  A  P1  112  212  312  412"
      ]
     },
     "execution_count": 6,
     "metadata": {},
     "output_type": "execute_result"
    }
   ],
   "source": [
    "df.sort_values(\"Q1\", ascending = False) # Q1 변수 기반 내림차순 정렬"
   ]
  },
  {
   "cell_type": "markdown",
   "id": "fc5f8b02",
   "metadata": {},
   "source": [
    "정렬 관련 메서드는 다중 인덱스 또는 변수를 지정하여 각각 오름차순과 내림차순을 지정할 수 있음. 역시나 다른 함수 또는 메서드와 같이 다중 값을 하나의 인자에 할당하기 위해 list 객체를 활용함"
   ]
  },
  {
   "cell_type": "code",
   "execution_count": null,
   "id": "7edac9ed",
   "metadata": {},
   "outputs": [],
   "source": [
    "df.sort_values([\"지점\", \"Q1\"])"
   ]
  },
  {
   "cell_type": "code",
   "execution_count": 7,
   "id": "910fb7dd",
   "metadata": {},
   "outputs": [
    {
     "data": {
      "text/html": [
       "<div>\n",
       "<style scoped>\n",
       "    .dataframe tbody tr th:only-of-type {\n",
       "        vertical-align: middle;\n",
       "    }\n",
       "\n",
       "    .dataframe tbody tr th {\n",
       "        vertical-align: top;\n",
       "    }\n",
       "\n",
       "    .dataframe thead th {\n",
       "        text-align: right;\n",
       "    }\n",
       "</style>\n",
       "<table border=\"1\" class=\"dataframe\">\n",
       "  <thead>\n",
       "    <tr style=\"text-align: right;\">\n",
       "      <th></th>\n",
       "      <th>지점</th>\n",
       "      <th>상품</th>\n",
       "      <th>Q1</th>\n",
       "      <th>Q2</th>\n",
       "      <th>Q3</th>\n",
       "      <th>Q4</th>\n",
       "    </tr>\n",
       "  </thead>\n",
       "  <tbody>\n",
       "    <tr>\n",
       "      <th>1</th>\n",
       "      <td>A</td>\n",
       "      <td>P2</td>\n",
       "      <td>134</td>\n",
       "      <td>234</td>\n",
       "      <td>334</td>\n",
       "      <td>434</td>\n",
       "    </tr>\n",
       "    <tr>\n",
       "      <th>0</th>\n",
       "      <td>A</td>\n",
       "      <td>P1</td>\n",
       "      <td>112</td>\n",
       "      <td>212</td>\n",
       "      <td>312</td>\n",
       "      <td>412</td>\n",
       "    </tr>\n",
       "    <tr>\n",
       "      <th>3</th>\n",
       "      <td>B</td>\n",
       "      <td>P2</td>\n",
       "      <td>178</td>\n",
       "      <td>278</td>\n",
       "      <td>378</td>\n",
       "      <td>478</td>\n",
       "    </tr>\n",
       "    <tr>\n",
       "      <th>2</th>\n",
       "      <td>B</td>\n",
       "      <td>P1</td>\n",
       "      <td>156</td>\n",
       "      <td>256</td>\n",
       "      <td>356</td>\n",
       "      <td>456</td>\n",
       "    </tr>\n",
       "  </tbody>\n",
       "</table>\n",
       "</div>"
      ],
      "text/plain": [
       "  지점  상품   Q1   Q2   Q3   Q4\n",
       "1  A  P2  134  234  334  434\n",
       "0  A  P1  112  212  312  412\n",
       "3  B  P2  178  278  378  478\n",
       "2  B  P1  156  256  356  456"
      ]
     },
     "execution_count": 7,
     "metadata": {},
     "output_type": "execute_result"
    }
   ],
   "source": [
    "# \"지점\"별 \"Q1\"변수를 정렬하며, \"지점\"변수는 오름차순, \"Q1\"변수는 내림차순 정렬\n",
    "df.sort_values([\"지점\", \"Q1\"], ascending = [True, False]) "
   ]
  },
  {
   "cell_type": "code",
   "execution_count": null,
   "id": "7df9e337",
   "metadata": {},
   "outputs": [],
   "source": []
  }
 ],
 "metadata": {
  "kernelspec": {
   "display_name": "Python 3 (ipykernel)",
   "language": "python",
   "name": "python3"
  },
  "language_info": {
   "codemirror_mode": {
    "name": "ipython",
    "version": 3
   },
   "file_extension": ".py",
   "mimetype": "text/x-python",
   "name": "python",
   "nbconvert_exporter": "python",
   "pygments_lexer": "ipython3",
   "version": "3.9.12"
  }
 },
 "nbformat": 4,
 "nbformat_minor": 5
}
